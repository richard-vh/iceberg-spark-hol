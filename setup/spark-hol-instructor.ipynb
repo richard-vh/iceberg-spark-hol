{
 "cells": [
  {
   "cell_type": "markdown",
   "metadata": {},
   "source": [
    "# Section 1: Spark and Iceberg on Cloudera Data Engineering Data Hubs\n",
    "\n",
    "![alt text](https://raw.githubusercontent.com/richard-vh/iceberg-spark-hol/refs/heads/main/img/spark-iceberg-cldr.png)\n",
    "\n",
    "Cloudera Data Hub is a cloud service for creating and managing secure, isolated, and elastic workload clusters on AWS, Azure, and GCP. It uses Cloudera Runtime and is managed from the Cloudera Management Console.\n",
    "\n",
    "The service provides pre-configured templates for common workloads but also allows for extensive customization through reusable resources like cluster definitions, templates, and scripts. This enables agile, on-demand cluster creation and automation via a web interface or CLI, with all clusters linked to a central Data Lake for security and governance."
   ]
  },
  {
   "cell_type": "markdown",
   "metadata": {},
   "source": [
    "### Agenda\n",
    "\n",
    "* [Before Starting the Labs](#before-starting-the-labs)<br/>\n",
    "* [Lab 1. Creating Iceberg Tables](#lab-1-creating-iceberg-tables)<br/>\n",
    "  * [Creating an Iceberg Table](#creating-an-iceberg-table)<br/>\n",
    "  * [Explore the Table Storage Location](#explore-the-table-storage-location)<br/>\n",
    "  * [Understanding the Metadata Files](#understanding-the-metadata-files)<br/>\n",
    "* [Lab 2. Iceberg data Manipulation](#lab-2-iceberg-data-manipulation)<br/>\n",
    "  * [Best Practices for Managing Data](#best-practices-for-managing-data)<br/>\n",
    "  * [Iceberg Data Inserts and Updates](#iceberg-data-inserts-and-updates)<br/>\n",
    "  * [Iceberg Data Deletion](#iceberg-data-deletion)<br/>\n",
    "* [Lab 3: Iceberg Tables Types (COW and MOR)](#lab-3-iceberg-tables-types-cow-and-mor)<br/>\n",
    "  * [Iceberg Copy-on-Write (COW) Table](#iceberg-copy-on-write-cow-table)<br/>\n",
    "  * [Iceberg Merge-on-Read (MOR) Table](#iceberg-merge-on-read-mor-table)<br/>\n",
    "* [Lab 4: Schema and Partition Evolution](#lab-4-schema-and-partition-evolution)<br/>\n",
    "  * [Iceberg Schema Evolution](#iceberg-schema-evolution)<br/>\n",
    "  * [Iceberg Partition Evolution](#iceberg-partition-evolution)<br/>\n",
    "* [Lab 5: Iceberg Time Travel & Rollbacks using Snapshots](#lab-5-iceberg-time-travel--rollbacks-using-snapshots)<br/>\n",
    "  * [Understanding Time Travel in Iceberg](#understanding-time-travel-in-iceberg)<br/>\n",
    "  * [Rollback Tables Using Snapshots](#rollback-tables-using-snapshots)<br/>\n",
    "* [Lab 6: Iceberg Tagging, Branching and Merging](#lab-6-iceberg-tagging-branching-and-merging)<br/>\n",
    "  * [Iceberg Tagging](#iceberg-tagging)<br/>\n",
    "  * [Creating Branches in Iceberg](#creating-branches-in-iceberg)<br/>\n",
    "  * [Merging Iceberg Branches](#merging-iceberg-branches)<br/>\n",
    "* [Lab 7: Migrating tables from Hive to Iceberg](#lab-7-migrating-tables-from-hive-to-iceberg)<br/>\n",
    "  * [“CONVERT” In-Place Migration Vanilla Parquet to Iceberg](#convert-in-place-migration-vanilla-parquet-to-iceberg)<br/>\n",
    "  * [“Create Table As” (CATS) Migration from Vanilla Parquet to Iceberg](#create-table-as-cats-migration-from-vanilla-parquet-to-iceberg)<br/>\n",
    "* [Lab 8: Iceberg Table Maintenance](#lab-8-iceberg-table-maintenance)<br/>\n",
    "  * [Iceberg Compaction](#iceberg-compaction)<br/>\n",
    "  * [Iceberg Expiring Snapshots](#iceberg-expiring-snapshots)<br/>"
   ]
  },
  {
   "cell_type": "markdown",
   "metadata": {},
   "source": [
    "## Before Starting the Labs\n",
    "\n",
    "**Your instructor will run through each of the exercises giving you the oppotunity to view them go through it first. After that you'll be given time to go through each exercise on your own.**\n",
    "\n",
    "Make sure you set a workload password for your assigned workload user i.e. user001.\n",
    "Log into the **Cloudera Data Platform** -> Click your **Profile** Name at the bottom left of the Home Page and select **Profile**.\n",
    "\n",
    "![alt text](https://raw.githubusercontent.com/richard-vh/iceberg-spark-hol/refs/heads/main/img/workloadpassword1.png)\n",
    "\n",
    "In your user's setting page, click **Set Workload Password**, enter any password twice and click the **Set Workload Password** button.\n",
    "\n",
    "![alt text](https://raw.githubusercontent.com/richard-vh/iceberg-spark-hol/refs/heads/main/img/workloadpassword2.png)\n",
    "\n",
    "Typically we would SSH onto the node and execute Spark commands via the command line, but for the purposes of this lab we will use JupyterLab notebooks installed on the Data Hub cluster Gateway node for a better lab experience.\n",
    "\n",
    "> **TIP:** \n",
    "> If you prefer using the command line, you can SSH onto the public IP of a Data Hub node (using workload user name and password provided by the facilitator), follow the Labs and run the same code in a pyspark shell.\n",
    "\n",
    "Click on the following link to open JupyterLab on the Gateway node and log on using your workload user name and password provided by the facilitator i.e user001/hsgdguquuqyququ:\n",
    "\n",
    "[https://workshop-de-v2-gateway0.nemea-ho.sm02r9.b0.cloudera.site:9443/](https://workshop-de-v2-gateway0.nemea-ho.sm02r9.b0.cloudera.site:9443/)\n",
    "\n",
    "\n",
    "1. In JupyterLb create a new notebook by selecting **File -> New -> Notebook**.\n",
    "2. Click the **Select** button to accept the default kernel **Python3 (ipykernel)**.\n",
    "\n",
    "![alt text](https://raw.githubusercontent.com/richard-vh/iceberg-spark-hol/refs/heads/main/img/jupyter1.png)\n",
    "\n",
    "3. In the first cell of the new notebook paste the code below, substituting your assigned username in the username variable `<userxxx>` e.g. user003. This is going to create a Spark application on the Data Hub cluster for your user."
   ]
  },
  {
   "cell_type": "code",
   "execution_count": 1,
   "metadata": {},
   "outputs": [
    {
     "name": "stderr",
     "output_type": "stream",
     "text": [
      "Setting default log level to \"WARN\".\n",
      "To adjust logging level use sc.setLogLevel(newLevel). For SparkR, use setLogLevel(newLevel).\n",
      "25/08/26 10:51:58 WARN  conf.HiveConf: [Thread-3]: HiveConf of name hive.metastore.runworker.in does not exist\n",
      "25/08/26 10:51:59 WARN  impl.MetricsConfig: [Thread-3]: Cannot locate configuration: tried hadoop-metrics2-s3a-file-system.properties,hadoop-metrics2.properties\n",
      "25/08/26 10:52:00 WARN  impl.ConfigurationHelper: [Thread-3]: Option fs.s3a.connection.establish.timeout is too low (5,000 ms). Setting to 15,000 ms instead\n"
     ]
    },
    {
     "name": "stdout",
     "output_type": "stream",
     "text": [
      "Code block completed\n"
     ]
    }
   ],
   "source": [
    "# Enter your assigned user below\n",
    "username = \"user001\"\n",
    "\n",
    "from pyspark.sql import SparkSession\n",
    "\n",
    "spark = SparkSession.builder \\\n",
    "                      .appName(\"{}_spark_session\".format(username)) \\\n",
    "                      .getOrCreate()\n",
    "\n",
    "print(\"Code block completed\")"
   ]
  },
  {
   "cell_type": "markdown",
   "metadata": {},
   "source": [
    "4. Execute the cell code by clicking the **⏵** button or you can select cmd+enter on your keyboard to do the same.\n",
    "\n",
    "![alt text](https://raw.githubusercontent.com/richard-vh/iceberg-spark-hol/refs/heads/main/img/jupyter2.png)\n",
    "\n",
    "5. Lets check that our Spark session is running in the Data Hub Resource Manager. Navigate to the **CDP Control Plane -> Management Console -> Environments -> Select your environment**.\n",
    "   \n",
    "7. Under your enviornment select your Data Engineering Data Hub.\n",
    "\n",
    "![alt text](https://raw.githubusercontent.com/richard-vh/iceberg-spark-hol/refs/heads/main/img/datahubselect.png)\n",
    "\n",
    "7. Under your Data Hub select the **Resource Manager**\n",
    "\n",
    "![alt text](https://raw.githubusercontent.com/richard-vh/iceberg-spark-hol/refs/heads/main/img/resourcemanager.png)\n",
    "\n",
    "8. Go to the **Applications** tab and verify that the Spark session you created for your specific user in Jupyter is running e.g. **user001-spark-session**\n",
    "\n",
    "![alt text](https://raw.githubusercontent.com/richard-vh/iceberg-spark-hol/refs/heads/main/img/application.png)\n",
    "\n",
    "If all is good then we're ready to get on with Iceberg on Spark in our Jupyter Notebook!!!"
   ]
  },
  {
   "cell_type": "markdown",
   "metadata": {},
   "source": [
    "## Lab 1. Creating Iceberg Tables \n",
    "\n",
    "### Creating an Iceberg Table\n",
    "\n",
    "**What is an Iceberg Table?**\n",
    "An Iceberg table is an open-source table format designed for huge analytic datasets in data lakes. Think of it not as a new data storage format, but as a sophisticated management layer that sits on top of your existing data files (like Parquet, Avro, or ORC) in cloud storage like Amazon S3 or Google Cloud Storage. It brings the reliability and simplicity of traditional SQL tables to the world of big data. At its core, an Iceberg table tracks a list of data files that constitute the table's contents. Unlike older formats like Hive, which rely on tracking files at a directory level, Iceberg tracks individual files. This seemingly small difference is what unlocks a host of powerful features.\n",
    "\n",
    "**Key benefits and limitations**\n",
    "\n",
    "* **ACID Transactions**: Iceberg brings atomicity, consistency, isolation, and durability to your data lake. This means that operations are either fully completed or not at all, ensuring that your data remains in a consistent state, even with multiple users reading and writing to the same table simultaneously.\n",
    "* **Schema Evolution**: With Iceberg, you can safely add, drop, rename, and even reorder columns in your table without needing to rewrite all the underlying data. This is a massive improvement over older formats where schema changes were often risky and computationally expensive.\n",
    "* **Hidden Partitioning**: You can change the way your table is partitioned without breaking existing queries. Iceberg handles the partitioning logic behind the scenes, so users don't need to know the physical layout of the data to write efficient queries.\n",
    "* **Time Travel and Rollback**: Every change to an Iceberg table creates a new, immutable snapshot of the table's state. This allows you to query the table as it existed at a specific point in time, which is invaluable for audits, debugging, and reproducing analyses. It also makes it easy to roll back the table to a previous version if a mistake is made.\n",
    "* **Efficient Query Performance**: By storing detailed statistics about the data at the file level, Iceberg enables query engines to perform \"file pruning.\" This means the engine can quickly identify and skip reading files that don't contain data relevant to a query, leading to significant performance gains.\n",
    "\n",
    "\n",
    "1. For the remainder of this lab we'll do all of our Spark code in in your existing Jupyter notebook created above. Add a new cell to the notebook and run the code below."
   ]
  },
  {
   "cell_type": "code",
   "execution_count": 21,
   "metadata": {},
   "outputs": [
    {
     "name": "stderr",
     "output_type": "stream",
     "text": [
      "                                                                                \r"
     ]
    },
    {
     "name": "stdout",
     "output_type": "stream",
     "text": [
      "Code block completed\n"
     ]
    }
   ],
   "source": [
    "spark.sql(\"DROP TABLE IF EXISTS default.{}_managed_countries\".format(username))\n",
    "\n",
    "# Create an Iceberg table for European countries (COW by default)\n",
    "spark.sql(\"\"\"\n",
    "    CREATE TABLE default.{}_managed_countries (\n",
    "        country_code STRING,\n",
    "        country_name STRING,\n",
    "        population INT,\n",
    "        area DOUBLE\n",
    "    )\n",
    "    USING iceberg\n",
    "\"\"\".format(username))\n",
    "\n",
    "# Insert data into the table\n",
    "spark.sql(\"\"\"\n",
    "    INSERT INTO default.{}_managed_countries VALUES\n",
    "    ('FR', 'France', 67391582, 643801.0),\n",
    "    ('DE', 'Germany', 83149300, 357022.0),\n",
    "    ('IT', 'Italy', 60262770, 301340.0)\n",
    "\"\"\".format(username))\n",
    "\n",
    "print(\"Code block completed\")"
   ]
  },
  {
   "cell_type": "markdown",
   "metadata": {},
   "source": [
    "![alt text](https://raw.githubusercontent.com/richard-vh/iceberg-spark-hol/refs/heads/main/img/jupyter3.png)\n",
    "\n",
    "2. Add a new cell to the notebook and run each code block below to query the table."
   ]
  },
  {
   "cell_type": "code",
   "execution_count": 22,
   "metadata": {},
   "outputs": [
    {
     "name": "stderr",
     "output_type": "stream",
     "text": [
      "[Stage 45:>                                                         (0 + 1) / 1]\r"
     ]
    },
    {
     "name": "stdout",
     "output_type": "stream",
     "text": [
      "+------------+------------+----------+--------+\n",
      "|country_code|country_name|population|    area|\n",
      "+------------+------------+----------+--------+\n",
      "|          FR|      France|  67391582|643801.0|\n",
      "|          DE|     Germany|  83149300|357022.0|\n",
      "|          IT|       Italy|  60262770|301340.0|\n",
      "+------------+------------+----------+--------+\n",
      "\n",
      "Code block completed\n"
     ]
    },
    {
     "name": "stderr",
     "output_type": "stream",
     "text": [
      "                                                                                \r"
     ]
    }
   ],
   "source": [
    "# Query the table\n",
    "df = spark.sql(\"SELECT * FROM default.{}_managed_countries\".format(username))\n",
    "df.show()\n",
    "\n",
    "print(\"Code block completed\")"
   ]
  },
  {
   "cell_type": "markdown",
   "metadata": {},
   "source": [
    "3. Add a new cell to the notebook and run each code block to look at the properties of the table."
   ]
  },
  {
   "cell_type": "code",
   "execution_count": 23,
   "metadata": {},
   "outputs": [
    {
     "name": "stdout",
     "output_type": "stream",
     "text": [
      "+------------+---------+-------+\n",
      "|    col_name|data_type|comment|\n",
      "+------------+---------+-------+\n",
      "|country_code|   string|   NULL|\n",
      "|country_name|   string|   NULL|\n",
      "|  population|      int|   NULL|\n",
      "|        area|   double|   NULL|\n",
      "+------------+---------+-------+\n",
      "\n",
      "+---------------------------------------------------------------------------------------------------------------------------------------------------------------------------------------------------------------------------------------------------------------------------------------------------------------------------------------------------------------------------------------------------------------+\n",
      "|createtab_stmt                                                                                                                                                                                                                                                                                                                                                                                                 |\n",
      "+---------------------------------------------------------------------------------------------------------------------------------------------------------------------------------------------------------------------------------------------------------------------------------------------------------------------------------------------------------------------------------------------------------------+\n",
      "|CREATE TABLE spark_catalog.default.user001_managed_countries (\\n  country_code STRING,\\n  country_name STRING,\\n  population INT,\\n  area DOUBLE)\\nUSING iceberg\\nLOCATION 's3a://nemea-hol-v2-buk-1b8d0c26/data/warehouse/tablespace/external/hive/user001_managed_countries'\\nTBLPROPERTIES (\\n  'current-snapshot-id' = '1270210969878704097',\\n  'format' = 'iceberg/parquet',\\n  'format-version' = '1')\\n|\n",
      "+---------------------------------------------------------------------------------------------------------------------------------------------------------------------------------------------------------------------------------------------------------------------------------------------------------------------------------------------------------------------------------------------------------------+\n",
      "\n",
      "+-------------------+-------------------+\n",
      "|key                |value              |\n",
      "+-------------------+-------------------+\n",
      "|current-snapshot-id|1270210969878704097|\n",
      "|format             |iceberg/parquet    |\n",
      "|format-version     |1                  |\n",
      "+-------------------+-------------------+\n",
      "\n",
      "Code block completed\n"
     ]
    }
   ],
   "source": [
    "# Describe the table\n",
    "spark.sql(\"DESCRIBE default.{}_managed_countries\".format(username)).show()\n",
    "\n",
    "# Show the table's CREATE statement\n",
    "spark.sql(\"SHOW CREATE TABLE default.{}_managed_countries\".format(username)).show(truncate=False)\n",
    "\n",
    "# Show the table properties\n",
    "spark.sql(\"SHOW TBLPROPERTIES default.{}_managed_countries\".format(username)).show(truncate=False)\n",
    "\n",
    "print(\"Code block completed\")"
   ]
  },
  {
   "cell_type": "markdown",
   "metadata": {},
   "source": [
    "Describing the tables shows us the column names, their data types and column comments.\n",
    "\n",
    "The create table statement give us the the current table DDL, including the storage location (note the S3 storage path, Iceberg current snapshot id, storage file type, format-version which indicates if it's an Iceberg v1 or v2 table.\n",
    "\n",
    "> **NOTE:** \n",
    "> Iceberg v2 builds upon v1 by adding row-level updates and deletes, enabled through merge-on-read and delete files. This allows for more efficient modification of data within immutable file formats like Parquet, Avro, and ORC, without rewriting entire files. Iceberg v1 primarily focused on supporting large analytic tables with immutable file formats and snapshot-based isolation. _"
   ]
  },
  {
   "cell_type": "markdown",
   "metadata": {},
   "source": [
    "### Understanding the Metadata Files\n",
    "\n",
    "![alt text](https://raw.githubusercontent.com/richard-vh/iceberg-spark-hol/refs/heads/main/img/iceberg-metadatafiles.png)\n",
    "\n",
    "#### How These Files Work Together in Iceberg:\n",
    "  * The **metastore** contains a pointer to the table's current **metadata** file.\n",
    "  * A **metadata** JSON file (.metadata.json) defines the table schema and has references to snapshots.\n",
    "  * A **snapshot** file (snap-*.avro) records changes and has links to manifest list files.\n",
    "  * A **manifest list** file (*-m0.avro) references **manifest** files that contain details of individual data files.\n",
    "\n",
    "#### Metadata Files (*.metadata.json)\n",
    "  * **Example Files**: 00000-bc161db1-05f2-4d64-baab-69ca2070db33.metadata.json  \n",
    "  * **Purpose**: Stores table-level metadata such as schema, partitioning, snapshots, and file references. Each time the table structure changes (e.g., schema evolution, snapshot creation), a new metadata JSON file is generated. Older metadata files are retained to support time travel and rollback.\n",
    "  * **Data Type**: JSON format (human-readable, structured key-value pairs).\n",
    "  * **Why?**: JSON allows Iceberg to store metadata in a flexible, easily accessible format. New versions can be created without modifying existing files, enabling schema evolution.\n",
    "\n",
    "#### Snapshot Files (snap-*-*.avro)\n",
    "  * Example Files: snap-1185275548636187694-1-f7f549e1-bd07-44da-b170-8973c2e6e3d6.avro  \n",
    "  * Purpose: Tracks table state at a specific point in time (snapshot ID, timestamp, manifest list, etc.). Allows for time travel and rollbacks to previous versions of the table.\n",
    "  * Data Type: Apache Avro format (binary, optimized for structured data storage).\n",
    "  * Why? Storing snapshots in Avro provides efficient serialization while keeping metadata compact and performant. Enables fast lookup of previous states for Iceberg’s time travel feature.\n",
    "    \n",
    "#### Manifest List Files (*-m0.avro)\n",
    "  * **Example Files**: 3ecfea4f-9e06-45a9-bd7c-430fe4758283-m0.avro \n",
    "  * **Purpose**: Stores a list of manifest files associated with a snapshot. Helps Iceberg quickly determine which data files belong to which snapshot without scanning the entire table.\n",
    "  * **Data Type**: Apache Avro format (binary, optimized for fast read/write).\n",
    "  * **Why**?: Avro is compact and supports schema evolution, making it ideal for metadata storage. Using Avro instead of JSON for large metadata speeds up querying and file tracking."
   ]
  },
  {
   "cell_type": "markdown",
   "metadata": {},
   "source": [
    "### Explore the Table Storage Location\n",
    "\n",
    "The SHOW CREATE TABLE command that you ran above shows the Iceberg table's definition. Lets take a look at the storage location so that we can understand how Iceberg manages metadata and data. From the SHOW CREATE TABLE response from Jupyter copy the LOCATION path. In Jupyter, open a terminal window in Jupyter and run the following code, substituting the `<location_url>` with the location you copied.\n",
    "\n",
    "```bash\n",
    "hdfs dfs -ls  <storage_location>\n",
    "```\n",
    "![alt text](https://raw.githubusercontent.com/richard-vh/iceberg-spark-hol/refs/heads/main/img/jupyter4.png)\n",
    "\n",
    "From the output you can see that the Iceberg table has a **/metadata** and **/data** subfolder structure.\n",
    "Now add **/metadata** onto the previous command you ran in the terminal to explore the metadata folder structure.\n",
    "```bash\n",
    "hdfs dfs -ls  <storage_location>/metadata\n",
    "```\n",
    "![alt text](https://raw.githubusercontent.com/richard-vh/iceberg-spark-hol/refs/heads/main/img/jupyter5.png)\n",
    "\n",
    "The **/metadata** directory contains snapshots, schema history, and manifest files, allowing Iceberg to manage partitioning and versioning without relying on Hive Metastore, while the **/data** directory holds the actual table data files.\n",
    "\n",
    "Let's delete a row in the table and see how it affects the metada file by checking them again after the delete operation. What are you expecting?"
   ]
  },
  {
   "cell_type": "code",
   "execution_count": 24,
   "metadata": {},
   "outputs": [
    {
     "name": "stderr",
     "output_type": "stream",
     "text": [
      "                                                                                \r"
     ]
    },
    {
     "name": "stdout",
     "output_type": "stream",
     "text": [
      "Code block completed\n"
     ]
    }
   ],
   "source": [
    "# Query the table\n",
    "df = spark.sql(\"DELETE FROM default.{}_managed_countries WHERE country_code = 'IT'\".format(username))\n",
    "\n",
    "print(\"Code block completed\")"
   ]
  },
  {
   "cell_type": "markdown",
   "metadata": {},
   "source": [
    "## Lab 2. Iceberg data Manipulation \n",
    "\n",
    "### Best Practices for Managing Data\n",
    "  * Start with a comprehensive data model\n",
    "  * Ensure that the schema is well-defined and follows consistent naming conventions.\n",
    "  * Leverage nested structures for complex data\n",
    "\n",
    "### Iceberg Data Inserts and Updates\n",
    "\n",
    "In Iceberg, you can insert and update data using SQL commands. Inserts add new records to the table, while updates modify existing records based on a condition.\n",
    "\n",
    "1. In your existing Jupyter notebook add a new cell and run the code below."
   ]
  },
  {
   "cell_type": "code",
   "execution_count": 25,
   "metadata": {},
   "outputs": [
    {
     "name": "stderr",
     "output_type": "stream",
     "text": [
      "25/08/26 11:38:49 WARN  conf.HiveConf: [Thread-3]: HiveConf of name hive.metastore.runworker.in does not exist\n",
      "                                                                                \r"
     ]
    },
    {
     "name": "stdout",
     "output_type": "stream",
     "text": [
      "+-------+-----------------+----------+---------------+\n",
      "|team_id|team_name        |team_city |team_stadium   |\n",
      "+-------+-----------------+----------+---------------+\n",
      "|T001   |Manchester United|Manchester|Old Trafford   |\n",
      "|T002   |Liverpool        |Liverpool |Anfield        |\n",
      "|T003   |Chelsea          |London    |Stamford Bridge|\n",
      "+-------+-----------------+----------+---------------+\n",
      "\n"
     ]
    },
    {
     "name": "stderr",
     "output_type": "stream",
     "text": [
      "[Stage 60:>                                                         (0 + 1) / 1]\r"
     ]
    },
    {
     "name": "stdout",
     "output_type": "stream",
     "text": [
      "+-------+-----------------+----------+-------------------+\n",
      "|team_id|team_name        |team_city |team_stadium       |\n",
      "+-------+-----------------+----------+-------------------+\n",
      "|T001   |Manchester United|Manchester|Old Trafford       |\n",
      "|T002   |Liverpool        |Liverpool |Anfield            |\n",
      "|T003   |Chelsea          |London    |New Stamford Bridge|\n",
      "+-------+-----------------+----------+-------------------+\n",
      "\n",
      "Code block completed\n"
     ]
    },
    {
     "name": "stderr",
     "output_type": "stream",
     "text": [
      "                                                                                \r"
     ]
    }
   ],
   "source": [
    "# Drop the table if it exists\n",
    "spark.sql(\"DROP TABLE IF EXISTS default.{}_english_football_teams\".format(username))\n",
    "\n",
    "# Create the table for football teams in England\n",
    "spark.sql(\"\"\"\n",
    "    CREATE TABLE default.{}_english_football_teams (\n",
    "        team_id STRING,\n",
    "        team_name STRING,\n",
    "        team_city STRING,\n",
    "        team_stadium STRING\n",
    "    )\n",
    "    USING iceberg\n",
    "\"\"\".format(username))\n",
    "\n",
    "# Insert data into the table\n",
    "spark.sql(\"\"\"\n",
    "    INSERT INTO default.{}_english_football_teams \n",
    "    VALUES \n",
    "    ('T001', 'Manchester United', 'Manchester', 'Old Trafford'),\n",
    "    ('T002', 'Liverpool', 'Liverpool', 'Anfield'),\n",
    "    ('T003', 'Chelsea', 'London', 'Stamford Bridge')\n",
    "\"\"\".format(username))\n",
    "\n",
    "df = spark.sql(\"SELECT * FROM default.{}_english_football_teams\".format(username))\n",
    "df.show(truncate=False)\n",
    "\n",
    "# Update data for a football team\n",
    "spark.sql(\"\"\"\n",
    "    UPDATE default.{}_english_football_teams\n",
    "    SET team_stadium = 'New Stamford Bridge'\n",
    "    WHERE team_id = 'T003'\n",
    "\"\"\".format(username))\n",
    "\n",
    "df = spark.sql(\"SELECT * FROM default.{}_english_football_teams\".format(username))\n",
    "df.show(truncate=False)\n",
    "\n",
    "print(\"Code block completed\")"
   ]
  },
  {
   "cell_type": "markdown",
   "metadata": {},
   "source": [
    "2. Look at the code and output and verify the inserts and update work as you would expect."
   ]
  },
  {
   "cell_type": "markdown",
   "metadata": {},
   "source": [
    "### Iceberg Data Deletion\n",
    "\n",
    "When performing deletions in Iceberg, it’s important to remember that Iceberg uses a snapshot mechanism. Deletions will add a new snapshot but do not immediately remove data, ensuring that deleted data can still be recovered.\n",
    "\n",
    "#### What to Consider When Performing Deletions\n",
    "  * Deletions in Iceberg are versioned and can be reverted through time travel.\n",
    "  * Data is deleted based on conditions you specify (e.g., by team_id).\n",
    "  * You can perform data compaction after deletion for performance optimization.\n",
    "\n",
    "1. In your existing Jupyter notebook add a new cell and run the code below."
   ]
  },
  {
   "cell_type": "code",
   "execution_count": 26,
   "metadata": {},
   "outputs": [
    {
     "name": "stderr",
     "output_type": "stream",
     "text": [
      "                                                                                \r"
     ]
    },
    {
     "name": "stdout",
     "output_type": "stream",
     "text": [
      "+-------+-----------------+----------+------------+\n",
      "|team_id|team_name        |team_city |team_stadium|\n",
      "+-------+-----------------+----------+------------+\n",
      "|T001   |Manchester United|Manchester|Old Trafford|\n",
      "|T002   |Liverpool        |Liverpool |Anfield     |\n",
      "+-------+-----------------+----------+------------+\n",
      "\n",
      "Code block completed\n"
     ]
    }
   ],
   "source": [
    "# Deleting data from the table (removing Chelsea)\n",
    "spark.sql(\"\"\"\n",
    "    DELETE FROM default.{}_english_football_teams\n",
    "    WHERE team_id = 'T003'\n",
    "\"\"\".format(username))\n",
    "\n",
    "df = spark.sql(\"SELECT * FROM default.{}_english_football_teams\".format(username))\n",
    "df.show(truncate=False)\n",
    "\n",
    "print(\"Code block completed\")"
   ]
  },
  {
   "cell_type": "markdown",
   "metadata": {},
   "source": [
    "2.  Look at the code and output and verify the delete works as you would expect."
   ]
  },
  {
   "cell_type": "markdown",
   "metadata": {},
   "source": [
    "## Lab 3: Iceberg Tables Types (COW and MOR) \n",
    "\n",
    "Iceberg tables support different storage strategies to balance performance, storage efficiency, and query speed. This section introduces the two primary approaches.\n",
    "\n",
    "  * **Copy-on-Write (COW)**: Ensures immutability by writing new files on every update, making it ideal for ACID transactions and historical auditing.\n",
    "  * **Merge-on-Read (MOR)**: Optimizes write performance by storing changes as delta files, merging them at query time—useful for real-time ingestion.\n",
    "    \n",
    "Each strategy has trade-offs, making them suitable for different workloads. \n",
    "\n",
    "  **Merge-On-Read (MOR)**\n",
    "  * Writes are efficient.\n",
    "  * Reads are inefficient due to read amplification, but regularly scheduled compaction can reduce inefficiency.\n",
    "  * A good choice when streaming.\n",
    "  * A good choice when frequently writing or updating, such as running hourly batch jobs.\n",
    "  * A good choice when the percentage of data change is low.\n",
    "\n",
    "**Copy-On-Write (COW)**\n",
    "  * Reads are efficient.\n",
    "  * A good choice for bulk updates and deletes, such as running a daily batch job.\n",
    "  * Writes are inefficient due to write amplification, but the need for compaction is reduced.\n",
    "  * A good choice when the percentage of data change is high."
   ]
  },
  {
   "cell_type": "markdown",
   "metadata": {},
   "source": [
    "### Iceberg Copy-on-Write (COW) Table\n",
    "\n",
    "**What is a Copy-on-Write Table?**: Copy-on-Write (COW) is where instead of modifying data directly, the system creates a complete copy of the data file with the changes applied. This method makes reading data incredibly fast and efficient, as queries can simply access a clean, final version of a file without any extra processing. The downside, however, is that writing data can be slow and expensive. Even a tiny update to a single row forces the entire file to be duplicated and rewritten. This makes frequent, small changes inefficient and can lead to conflicts if multiple writes occur at the same time. While this approach is poorly suited for minor edits, it becomes ideal for large, bulk updates where changing a significant portion of the file is necessary anyway.\n",
    "\n",
    "**Code Example:**\n",
    "\n",
    "In your existing Jupyter notebook add a new cell and run the code below and notice how the table properties change."
   ]
  },
  {
   "cell_type": "code",
   "execution_count": 28,
   "metadata": {},
   "outputs": [
    {
     "name": "stderr",
     "output_type": "stream",
     "text": [
      "                                                                                \r"
     ]
    },
    {
     "name": "stdout",
     "output_type": "stream",
     "text": [
      "+--------------------+-------------+\n",
      "|key                 |value        |\n",
      "+--------------------+-------------+\n",
      "|current-snapshot-id |none         |\n",
      "|format              |iceberg/orc  |\n",
      "|format-version      |1            |\n",
      "|write.delete.mode   |copy-on-write|\n",
      "|write.format.default|orc          |\n",
      "|write.merge.mode    |copy-on-write|\n",
      "|write.update.mode   |copy-on-write|\n",
      "+--------------------+-------------+\n",
      "\n",
      "Code block completed\n"
     ]
    }
   ],
   "source": [
    "spark.sql(\"\"\"\n",
    "\tDROP TABLE IF EXISTS default.{}_cow_countries\n",
    "\"\"\".format(username))\n",
    "\n",
    "# Create an Iceberg Copy-on-Write table for European countries\n",
    "spark.sql(\"\"\"\n",
    "    CREATE TABLE default.{}_cow_countries (\n",
    "        country_code STRING,\n",
    "        country_name STRING,\n",
    "        population INT,\n",
    "        area DOUBLE\n",
    "    )\n",
    "    USING iceberg\n",
    "    TBLPROPERTIES (\n",
    "        'write.format.default'='orc', \n",
    "        'write.delete.mode'='copy-on-write',  -- Enable COW for delete operations\n",
    "        'write.update.mode'='copy-on-write',  -- Enable COW for update operations\n",
    "        'write.merge.mode'='copy-on-write'    -- Enable COW for compaction\n",
    "    )\n",
    "\"\"\".format(username))\n",
    "\n",
    "# Show table properties to verify it's set for COW\n",
    "spark.sql(\"SHOW TBLPROPERTIES default.{}_cow_countries\".format(username)).show(truncate=False)\n",
    "\n",
    "print(\"Code block completed\")"
   ]
  },
  {
   "cell_type": "markdown",
   "metadata": {},
   "source": [
    "### Iceberg Merge-on-Read (MOR) Table\n",
    "**What is a Merge-on-Read Table?**: Merge-on-Read (MOR) is where, instead of rewriting large files for every modification, changes are simply recorded in separate, smaller files. This approach makes writing new data, like updates or deletions, significantly faster. The trade-off is that more work is required during a read operation; the system must combine the original data with the separate change files on the fly to present the most current version. In Apache Iceberg, this is handled using delete files. When you update or delete a row, the change is logged in a delete file. During a query, Iceberg uses these delete files to know which rows to ignore from the old data files and which new rows to include. Eventually, compaction merges the original data and all the changes into new, clean files, which speeds up future reads.\n",
    "\n",
    "\n",
    "**Code Example:**\n",
    "\n",
    "In your existing Jupyter notebook add a new cell and run the code below and notice how the table properties change. If you create an Iceberg v2 table in Cloudera the default is MOR."
   ]
  },
  {
   "cell_type": "code",
   "execution_count": 29,
   "metadata": {},
   "outputs": [
    {
     "name": "stdout",
     "output_type": "stream",
     "text": [
      "+--------------------+-------------+\n",
      "|key                 |value        |\n",
      "+--------------------+-------------+\n",
      "|current-snapshot-id |none         |\n",
      "|format              |iceberg/orc  |\n",
      "|format-version      |1            |\n",
      "|write.delete.mode   |merge-on-read|\n",
      "|write.format.default|orc          |\n",
      "|write.merge.mode    |merge-on-read|\n",
      "|write.update.mode   |merge-on-read|\n",
      "+--------------------+-------------+\n",
      "\n",
      "Code block completed\n"
     ]
    }
   ],
   "source": [
    "spark.sql(\"\"\"\n",
    "\tDROP TABLE IF EXISTS default.{}_mor_countries\n",
    "\"\"\".format(username))\n",
    "\n",
    "# Create an Iceberg Merge-on-Read table for European countries\n",
    "spark.sql(\"\"\"\n",
    "    CREATE TABLE default.{}_mor_countries (\n",
    "        country_code STRING,\n",
    "        country_name STRING,\n",
    "        population INT,\n",
    "        area DOUBLE\n",
    "    )\n",
    "    USING iceberg\n",
    "    TBLPROPERTIES (\n",
    "        'write.format.default'='orc', \n",
    "        'write.delete.mode'='merge-on-read',  -- Enable MOR for delete operations\n",
    "        'write.update.mode'='merge-on-read',  -- Enable MOR for update operations\n",
    "        'write.merge.mode'='merge-on-read'    -- Enable MOR for compaction\n",
    "    )\n",
    "\"\"\".format(username))\n",
    "\n",
    "# Show table properties to verify it's set for MOR\n",
    "spark.sql(\"SHOW TBLPROPERTIES default.{}_mor_countries\".format(username)).show(truncate=False)\n",
    "\n",
    "print(\"Code block completed\")"
   ]
  },
  {
   "cell_type": "markdown",
   "metadata": {},
   "source": [
    "## Lab 4: Schema and Partition Evolution\n",
    "\n",
    "![alt text](https://raw.githubusercontent.com/richard-vh/iceberg-spark-hol/refs/heads/main/img/icebergevolution.png)\n",
    "\n",
    "### Iceberg Schema Evolution\n",
    "Schema evolution in Iceberg allows you to modify the structure of your tables over time. This includes adding, renaming, and removing columns while ensuring that historical data remains accessible without requiring a full rewrite of the table.\n",
    "\n",
    "**Iceberg supports schema evolution operations like:**\n",
    "  * Adding columns: You can add new columns without affecting the existing data or operations.\n",
    "  * Renaming columns: The renaming of columns is supported without requiring data migration.\n",
    "  * Changing column types: You can change the type of a column, as long as it is compatible with the existing data.\n",
    "  * Dropping columns: Columns can be safely dropped if they are no longer needed.\n",
    "\n",
    "**Why is Schema Evolution important?**\n",
    "  * Adapting to business needs: As your data requirements evolve, schema changes are often necessary without disrupting production workflows.\n",
    "  * Backwards compatibility: Allows for schema changes that are compatible with existing data, meaning that you can evolve the schema without breaking old queries or affecting historical data.\n",
    "  * Simplifying data management: Allows incremental changes to the schema without needing full table rewrites.\n",
    "\n",
    "\n",
    "**Code Example:**\n",
    "\n",
    "In your existing Jupyter notebook add a new cell and run the code below. Examine each statement and it's output to understand how the table's schema definition is changed by adding a new column and renaming an existing one without affecting existing data or having to migrate the data."
   ]
  },
  {
   "cell_type": "code",
   "execution_count": 31,
   "metadata": {},
   "outputs": [
    {
     "name": "stderr",
     "output_type": "stream",
     "text": [
      "                                                                                \r"
     ]
    },
    {
     "name": "stdout",
     "output_type": "stream",
     "text": [
      "+---------+-----------+\n",
      "|animal_id|animal_name|\n",
      "+---------+-----------+\n",
      "|A001     |Lion       |\n",
      "|A002     |Elephant   |\n",
      "|A003     |Giraffe    |\n",
      "+---------+-----------+\n",
      "\n",
      "+-----------+---------+-------+\n",
      "|col_name   |data_type|comment|\n",
      "+-----------+---------+-------+\n",
      "|animal_id  |string   |NULL   |\n",
      "|animal_name|string   |NULL   |\n",
      "+-----------+---------+-------+\n",
      "\n"
     ]
    },
    {
     "name": "stderr",
     "output_type": "stream",
     "text": [
      "[Stage 74:>                                                         (0 + 1) / 1]\r"
     ]
    },
    {
     "name": "stdout",
     "output_type": "stream",
     "text": [
      "+---------+------------+-------------+\n",
      "|animal_id|species_name|habitat      |\n",
      "+---------+------------+-------------+\n",
      "|A001     |Lion        |NULL         |\n",
      "|A002     |Elephant    |NULL         |\n",
      "|A003     |Giraffe     |NULL         |\n",
      "|A004     |Zebra       |Savanna      |\n",
      "|A005     |Panda       |Bamboo Forest|\n",
      "+---------+------------+-------------+\n",
      "\n",
      "+------------+---------+-------+\n",
      "|col_name    |data_type|comment|\n",
      "+------------+---------+-------+\n",
      "|animal_id   |string   |NULL   |\n",
      "|species_name|string   |NULL   |\n",
      "|habitat     |string   |NULL   |\n",
      "+------------+---------+-------+\n",
      "\n",
      "+------------------------------------------------------------------------------------------------------------------------------------------------------------------------------------------------------------------------------------------------------------------------------------------------------------------------------------------------------------------------------------------------------+\n",
      "|createtab_stmt                                                                                                                                                                                                                                                                                                                                                                                        |\n",
      "+------------------------------------------------------------------------------------------------------------------------------------------------------------------------------------------------------------------------------------------------------------------------------------------------------------------------------------------------------------------------------------------------------+\n",
      "|CREATE TABLE spark_catalog.default.user001_zoo_animals_schema_evo (\\n  animal_id STRING,\\n  species_name STRING,\\n  habitat STRING)\\nUSING iceberg\\nLOCATION 's3a://nemea-hol-v2-buk-1b8d0c26/data/warehouse/tablespace/external/hive/user001_zoo_animals_schema_evo'\\nTBLPROPERTIES (\\n  'current-snapshot-id' = '3378990282857936932',\\n  'format' = 'iceberg/parquet',\\n  'format-version' = '1')\\n|\n",
      "+------------------------------------------------------------------------------------------------------------------------------------------------------------------------------------------------------------------------------------------------------------------------------------------------------------------------------------------------------------------------------------------------------+\n",
      "\n",
      "Code block completed\n"
     ]
    },
    {
     "name": "stderr",
     "output_type": "stream",
     "text": [
      "                                                                                \r"
     ]
    }
   ],
   "source": [
    "spark.sql(\"\"\"\n",
    "\tDROP TABLE IF EXISTS default.{}_zoo_animals_schema_evo\n",
    "\"\"\".format(username))\n",
    "\n",
    "# Create the initial Iceberg table\n",
    "spark.sql(\"\"\"\n",
    "    CREATE TABLE default.{}_zoo_animals_schema_evo (\n",
    "        animal_id STRING,\n",
    "        animal_name STRING\n",
    "    )\n",
    "    USING iceberg\n",
    "\"\"\".format(username))\n",
    "\n",
    "# Insert sample data\n",
    "spark.sql(\"\"\"\n",
    "    INSERT INTO default.{}_zoo_animals_schema_evo VALUES \n",
    "    ('A001', 'Lion'),\n",
    "    ('A002', 'Elephant'),\n",
    "    ('A003', 'Giraffe')\n",
    "\"\"\".format(username))\n",
    "\n",
    "# View the Data\n",
    "df = spark.sql(\"select * from default.{}_zoo_animals_schema_evo\".format(username))\n",
    "df.show(truncate=False)\n",
    "\n",
    "# View the schema\n",
    "df = spark.sql(\"DESCRIBE TABLE default.{}_zoo_animals_schema_evo\".format(username))\n",
    "df.show(truncate=False)\n",
    "\n",
    "# Add a new column to the table\n",
    "spark.sql(\"\"\"\n",
    "    ALTER TABLE default.{}_zoo_animals_schema_evo ADD COLUMN habitat STRING\n",
    "\"\"\".format(username))\n",
    "\n",
    "# Rename an existing column\n",
    "spark.sql(\"\"\"\n",
    "    ALTER TABLE default.{}_zoo_animals_schema_evo RENAME COLUMN animal_name TO species_name\n",
    "\"\"\".format(username))\n",
    "\n",
    "# Insert new data into the updated schema\n",
    "spark.sql(\"\"\"\n",
    "    INSERT INTO default.{}_zoo_animals_schema_evo VALUES \n",
    "    ('A004', 'Zebra', 'Savanna'),\n",
    "    ('A005', 'Panda', 'Bamboo Forest')\n",
    "\"\"\".format(username))\n",
    "\n",
    "# View the Data\n",
    "df = spark.sql(\"select * from default.{}_zoo_animals_schema_evo\".format(username))\n",
    "df.show(truncate=False)\n",
    "\n",
    "# View the schema\n",
    "df = spark.sql(\"DESCRIBE TABLE default.{}_zoo_animals_schema_evo\".format(username))\n",
    "df.show(truncate=False)\n",
    "\n",
    "# View the create table\n",
    "df = spark.sql(\"SHOW CREATE TABLE default.{}_zoo_animals_schema_evo\".format(username))\n",
    "df.show(truncate=False)\n",
    "\n",
    "print(\"Code block completed\")"
   ]
  },
  {
   "cell_type": "markdown",
   "metadata": {},
   "source": [
    "### Iceberg Partition Evolution\n",
    "\n",
    "**What is Partition Evolution?**\n",
    "Partition evolution refers to the ability to modify the partitioning strategy of an Iceberg table after it has been created. This can involve changing the partitioning key (column used for partitioning) or adding new partitioning columns. Unlike traditional partitioning schemes, Iceberg allows for flexible partition evolution without needing to rewrite the entire dataset. Partitioning evolution can help optimize query performance and manage large datasets more efficiently.\n",
    "\n",
    "**Common Partitioning Strategies**\n",
    "  * Time-based partitioning: Commonly used for time-series data, partitioning by date or timestamp can help in partition pruning, making queries faster.\n",
    "  * Range or hash partitioning: For datasets with discrete values like animal species, partitioning by a range of values or using hash partitioning can help balance the data across partitions.\n",
    "\n",
    "You can change the partitioning strategy after the table has been created, even if the data already exists. This allows you to optimize partitioning as your query patterns evolve and take advantage of query optimization with regards to partition pruning as the data evolves and grows within the table.\n",
    "\n",
    "**Code Example:**\n",
    "\n",
    "In your existing Jupyter notebook add a new cell and run the code below. Examine each statement and it's output to understand how the table's patition strategy evolves."
   ]
  },
  {
   "cell_type": "code",
   "execution_count": 32,
   "metadata": {},
   "outputs": [
    {
     "name": "stderr",
     "output_type": "stream",
     "text": [
      "                                                                                \r"
     ]
    },
    {
     "name": "stdout",
     "output_type": "stream",
     "text": [
      "+----------------------------+---------------------------------------------------------------------------------------------------------+-------+\n",
      "|col_name                    |data_type                                                                                                |comment|\n",
      "+----------------------------+---------------------------------------------------------------------------------------------------------+-------+\n",
      "|animal_id                   |string                                                                                                   |NULL   |\n",
      "|species_name                |string                                                                                                   |NULL   |\n",
      "|habitat                     |string                                                                                                   |NULL   |\n",
      "|# Partition Information     |                                                                                                         |       |\n",
      "|# col_name                  |data_type                                                                                                |comment|\n",
      "|animal_id                   |string                                                                                                   |NULL   |\n",
      "|                            |                                                                                                         |       |\n",
      "|# Metadata Columns          |                                                                                                         |       |\n",
      "|_spec_id                    |int                                                                                                      |       |\n",
      "|_partition                  |struct<animal_id:string>                                                                                 |       |\n",
      "|_file                       |string                                                                                                   |       |\n",
      "|_pos                        |bigint                                                                                                   |       |\n",
      "|_deleted                    |boolean                                                                                                  |       |\n",
      "|                            |                                                                                                         |       |\n",
      "|# Detailed Table Information|                                                                                                         |       |\n",
      "|Name                        |spark_catalog.default.user001_zoo_animals_partition_evo                                                  |       |\n",
      "|Type                        |MANAGED                                                                                                  |       |\n",
      "|Location                    |s3a://nemea-hol-v2-buk-1b8d0c26/data/warehouse/tablespace/external/hive/user001_zoo_animals_partition_evo|       |\n",
      "|Provider                    |iceberg                                                                                                  |       |\n",
      "|Owner                       |user001                                                                                                  |       |\n",
      "+----------------------------+---------------------------------------------------------------------------------------------------------+-------+\n",
      "only showing top 20 rows\n",
      "\n"
     ]
    },
    {
     "name": "stderr",
     "output_type": "stream",
     "text": [
      "ANTLR Tool version 4.8 used for code generation does not match the current runtime version 4.9.3\n",
      "ANTLR Tool version 4.8 used for code generation does not match the current runtime version 4.9.3\n",
      "                                                                                \r"
     ]
    },
    {
     "name": "stdout",
     "output_type": "stream",
     "text": [
      "+----------------------------+---------------------------------------------------------------------------------------------------------+-------+\n",
      "|col_name                    |data_type                                                                                                |comment|\n",
      "+----------------------------+---------------------------------------------------------------------------------------------------------+-------+\n",
      "|animal_id                   |string                                                                                                   |NULL   |\n",
      "|species_name                |string                                                                                                   |NULL   |\n",
      "|habitat                     |string                                                                                                   |NULL   |\n",
      "|# Partition Information     |                                                                                                         |       |\n",
      "|# col_name                  |data_type                                                                                                |comment|\n",
      "|animal_id                   |string                                                                                                   |NULL   |\n",
      "|habitat                     |string                                                                                                   |NULL   |\n",
      "|                            |                                                                                                         |       |\n",
      "|# Metadata Columns          |                                                                                                         |       |\n",
      "|_spec_id                    |int                                                                                                      |       |\n",
      "|_partition                  |struct<animal_id:string,habitat:string>                                                                  |       |\n",
      "|_file                       |string                                                                                                   |       |\n",
      "|_pos                        |bigint                                                                                                   |       |\n",
      "|_deleted                    |boolean                                                                                                  |       |\n",
      "|                            |                                                                                                         |       |\n",
      "|# Detailed Table Information|                                                                                                         |       |\n",
      "|Name                        |spark_catalog.default.user001_zoo_animals_partition_evo                                                  |       |\n",
      "|Type                        |MANAGED                                                                                                  |       |\n",
      "|Location                    |s3a://nemea-hol-v2-buk-1b8d0c26/data/warehouse/tablespace/external/hive/user001_zoo_animals_partition_evo|       |\n",
      "|Provider                    |iceberg                                                                                                  |       |\n",
      "+----------------------------+---------------------------------------------------------------------------------------------------------+-------+\n",
      "only showing top 20 rows\n",
      "\n"
     ]
    },
    {
     "name": "stderr",
     "output_type": "stream",
     "text": [
      "                                                                                \r"
     ]
    },
    {
     "name": "stdout",
     "output_type": "stream",
     "text": [
      "+---------+------------+---------+\n",
      "|animal_id|species_name|  habitat|\n",
      "+---------+------------+---------+\n",
      "|     A001|        Lion|  Savanna|\n",
      "|     A002|       Tiger|   Forest|\n",
      "|     A003|    Elephant|Grassland|\n",
      "|     A004|       Panda| Mountain|\n",
      "+---------+------------+---------+\n",
      "\n",
      "+-----------------+\n",
      "|partition        |\n",
      "+-----------------+\n",
      "|{A003, Grassland}|\n",
      "|{A004, Mountain} |\n",
      "|{A002, NULL}     |\n",
      "|{A001, NULL}     |\n",
      "+-----------------+\n",
      "\n",
      "+-------+--------------------------------------------------------------------------------------------------------------------------------------------------------------------------------------------------------------+-----------+-------+-----------------+------------+------------------+---------------------------+------------------------+------------------------+----------------+---------------------------------------------------------------------------------------+---------------------------------------------------------------------------------------+------------+-------------+------------+-------------+------------------------------------------------------------------------------------------------------------+\n",
      "|content|file_path                                                                                                                                                                                                     |file_format|spec_id|partition        |record_count|file_size_in_bytes|column_sizes               |value_counts            |null_value_counts       |nan_value_counts|lower_bounds                                                                           |upper_bounds                                                                           |key_metadata|split_offsets|equality_ids|sort_order_id|readable_metrics                                                                                            |\n",
      "+-------+--------------------------------------------------------------------------------------------------------------------------------------------------------------------------------------------------------------+-----------+-------+-----------------+------------+------------------+---------------------------+------------------------+------------------------+----------------+---------------------------------------------------------------------------------------+---------------------------------------------------------------------------------------+------------+-------------+------------+-------------+------------------------------------------------------------------------------------------------------------+\n",
      "|0      |s3a://nemea-hol-v2-buk-1b8d0c26/data/warehouse/tablespace/external/hive/user001_zoo_animals_partition_evo/data/animal_id=A003/habitat=Grassland/00000-674-8c2bc9cb-c4d6-4199-bcd6-7a1146f0dc23-0-00001.parquet|PARQUET    |1      |{A003, Grassland}|1           |1012              |{1 -> 33, 2 -> 37, 3 -> 38}|{1 -> 1, 2 -> 1, 3 -> 1}|{1 -> 0, 2 -> 0, 3 -> 0}|{}              |{1 -> [41 30 30 33], 2 -> [45 6C 65 70 68 61 6E 74], 3 -> [47 72 61 73 73 6C 61 6E 64]}|{1 -> [41 30 30 33], 2 -> [45 6C 65 70 68 61 6E 74], 3 -> [47 72 61 73 73 6C 61 6E 64]}|NULL        |[4]          |NULL        |0            |{{33, 1, 0, NULL, A003, A003}, {38, 1, 0, NULL, Grassland, Grassland}, {37, 1, 0, NULL, Elephant, Elephant}}|\n",
      "|0      |s3a://nemea-hol-v2-buk-1b8d0c26/data/warehouse/tablespace/external/hive/user001_zoo_animals_partition_evo/data/animal_id=A004/habitat=Mountain/00000-674-8c2bc9cb-c4d6-4199-bcd6-7a1146f0dc23-0-00002.parquet |PARQUET    |1      |{A004, Mountain} |1           |984               |{1 -> 33, 2 -> 34, 3 -> 37}|{1 -> 1, 2 -> 1, 3 -> 1}|{1 -> 0, 2 -> 0, 3 -> 0}|{}              |{1 -> [41 30 30 34], 2 -> [50 61 6E 64 61], 3 -> [4D 6F 75 6E 74 61 69 6E]}            |{1 -> [41 30 30 34], 2 -> [50 61 6E 64 61], 3 -> [4D 6F 75 6E 74 61 69 6E]}            |NULL        |[4]          |NULL        |0            |{{33, 1, 0, NULL, A004, A004}, {37, 1, 0, NULL, Mountain, Mountain}, {34, 1, 0, NULL, Panda, Panda}}        |\n",
      "|0      |s3a://nemea-hol-v2-buk-1b8d0c26/data/warehouse/tablespace/external/hive/user001_zoo_animals_partition_evo/data/animal_id=A001/00000-671-daa10075-6530-40e5-8174-6cf528091692-0-00001.parquet                  |PARQUET    |0      |{A001, NULL}     |1           |970               |{1 -> 33, 2 -> 33, 3 -> 36}|{1 -> 1, 2 -> 1, 3 -> 1}|{1 -> 0, 2 -> 0, 3 -> 0}|{}              |{1 -> [41 30 30 31], 2 -> [4C 69 6F 6E], 3 -> [53 61 76 61 6E 6E 61]}                  |{1 -> [41 30 30 31], 2 -> [4C 69 6F 6E], 3 -> [53 61 76 61 6E 6E 61]}                  |NULL        |[4]          |NULL        |0            |{{33, 1, 0, NULL, A001, A001}, {36, 1, 0, NULL, Savanna, Savanna}, {33, 1, 0, NULL, Lion, Lion}}            |\n",
      "|0      |s3a://nemea-hol-v2-buk-1b8d0c26/data/warehouse/tablespace/external/hive/user001_zoo_animals_partition_evo/data/animal_id=A002/00000-671-daa10075-6530-40e5-8174-6cf528091692-0-00002.parquet                  |PARQUET    |0      |{A002, NULL}     |1           |970               |{1 -> 33, 2 -> 34, 3 -> 35}|{1 -> 1, 2 -> 1, 3 -> 1}|{1 -> 0, 2 -> 0, 3 -> 0}|{}              |{1 -> [41 30 30 32], 2 -> [54 69 67 65 72], 3 -> [46 6F 72 65 73 74]}                  |{1 -> [41 30 30 32], 2 -> [54 69 67 65 72], 3 -> [46 6F 72 65 73 74]}                  |NULL        |[4]          |NULL        |0            |{{33, 1, 0, NULL, A002, A002}, {35, 1, 0, NULL, Forest, Forest}, {34, 1, 0, NULL, Tiger, Tiger}}            |\n",
      "+-------+--------------------------------------------------------------------------------------------------------------------------------------------------------------------------------------------------------------+-----------+-------+-----------------+------------+------------------+---------------------------+------------------------+------------------------+----------------+---------------------------------------------------------------------------------------+---------------------------------------------------------------------------------------+------------+-------------+------------+-------------+------------------------------------------------------------------------------------------------------------+\n",
      "\n",
      "Code block completed\n"
     ]
    }
   ],
   "source": [
    "spark.sql(\"\"\"\n",
    "\tDROP TABLE IF EXISTS default.{}_zoo_animals_partition_evo\n",
    "\"\"\".format(username))\n",
    "\n",
    "# Create the initial Iceberg table partitioned by 'animal_id'\n",
    "spark.sql(\"\"\"\n",
    "    CREATE TABLE default.{}_zoo_animals_partition_evo (\n",
    "        animal_id STRING,\n",
    "        species_name STRING,\n",
    "        habitat STRING\n",
    "    )\n",
    "    USING iceberg\n",
    "    PARTITIONED BY (animal_id)\n",
    "\"\"\".format(username))\n",
    "\n",
    "# Insert data into the initial partitioning scheme\n",
    "spark.sql(\"\"\"\n",
    "    INSERT INTO default.{}_zoo_animals_partition_evo VALUES\n",
    "    ('A001', 'Lion', 'Savanna'),\n",
    "    ('A002', 'Tiger', 'Forest')\n",
    "\"\"\".format(username))\n",
    "\n",
    "# Show the formatted schema and partitioning scheme before change\n",
    "spark.sql(\"DESCRIBE FORMATTED default.{}_zoo_animals_partition_evo\".format(username)).show(truncate=False)\n",
    "\n",
    "# Change the partitioning scheme to partition by both 'animal_id' and 'habitat'\n",
    "spark.sql(\"\"\"ALTER TABLE default.{}_zoo_animals_partition_evo ADD PARTITION FIELD habitat\"\"\".format(username))\n",
    "\n",
    "# Insert data after the partitioning scheme change\n",
    "spark.sql(\"\"\"\n",
    "    INSERT INTO default.{}_zoo_animals_partition_evo VALUES\n",
    "    ('A003', 'Elephant', 'Grassland'),\n",
    "    ('A004', 'Panda', 'Mountain')\n",
    "\"\"\".format(username))\n",
    "\n",
    "# Show the formatted schema and partitioning scheme after the change\n",
    "spark.sql(\"DESCRIBE FORMATTED default.{}_zoo_animals_partition_evo\".format(username)).show(truncate=False)\n",
    "\n",
    "# Querying data\n",
    "spark.sql(\"\"\"\n",
    "    SELECT * FROM default.{}_zoo_animals_partition_evo\n",
    "\"\"\".format(username)).show()\n",
    "\n",
    "# QUERY THE METADATA TABLE TO LIST PARTITIONS - NOTE YOUR OLDER DATA IS NOT PARTITIONED ON \"habitat\"\n",
    "df = spark.sql(\"SELECT DISTINCT partition FROM default.{}_zoo_animals_partition_evo.files\".format(username))\n",
    "df.show(truncate=False)\n",
    "\n",
    "# If you want to gather more detailed partition-level information\n",
    "df = spark.sql(\"SELECT * FROM default.{}_zoo_animals_partition_evo.files\".format(username))\n",
    "df.show(truncate=False)\n",
    "\n",
    "print(\"Code block completed\")"
   ]
  },
  {
   "cell_type": "markdown",
   "metadata": {},
   "source": [
    "## Lab 5: Iceberg Time Travel & Rollbacks using Snapshots\n",
    "\n",
    "![alt text](https://raw.githubusercontent.com/richard-vh/iceberg-spark-hol/refs/heads/main/img/icebergtimetravel.png)\n",
    "\n",
    "### Understanding Time Travel in Iceberg\n",
    "\n",
    "**What is Time Travel in Iceberg?**\n",
    "Time travel in Iceberg allows you to query a table as it existed at a specific point in time in the past. This feature leverages Iceberg's snapshot-based architecture to track all changes made to the data over time. When you perform time travel, Iceberg will provide data based on the state of the table at a specified snapshot or timestamp.\n",
    "Time travel is supported by specifying a timestamp or snapshotid when querying the table, which enables access to historical data without having to maintain separate copies of the data.\n",
    "\n",
    "**How Time Travel enhances data management**\n",
    "Historical queries: Time travel enables you to perform analysis on data as it existed at any previous time. This is valuable for auditing, debugging, and investigating historical trends.\n",
    "Data recovery: In case of accidental data loss or corruption, you can use time travel to recover previous versions of data.\n",
    "Simplifying rollbacks: Instead of reloading or restoring data from backups, you can simply query an earlier snapshot, reducing the complexity of data restoration.\n",
    "\n",
    "**Key use cases and limitations**\n",
    "  * Key use cases:\n",
    "\t* Auditing: Access historical data to verify what changes were made over time.\n",
    "\t* Data consistency: Ensure that queries are consistent with data at specific points in time, even in dynamic environments.\n",
    "\t* Bug investigation: Time travel is useful when tracking data issues or discrepancies in reports over time.\n",
    "  * Limitations:\n",
    "\t* Snapshot retention: Older snapshots can be expired to optimize storage, which may impact time travel for long periods in the past.\n",
    "\t* Performance: Querying historical data may take longer depending on the size and number of snapshots involved.\n",
    "\t* Storage costs: Maintaining historical snapshots may increase storage costs.\n",
    "\n",
    "**Code Example:**\n",
    "\n",
    "In your existing Jupyter notebook add a new cell and run the code below. Examine each statement and it's output to understand how DML operations create snapshots and how we can use these snapshots to do time travel."
   ]
  },
  {
   "cell_type": "code",
   "execution_count": 33,
   "metadata": {},
   "outputs": [
    {
     "name": "stderr",
     "output_type": "stream",
     "text": [
      "25/08/26 12:08:07 WARN  conf.HiveConf: [Thread-3]: HiveConf of name hive.metastore.runworker.in does not exist\n",
      "                                                                                \r"
     ]
    },
    {
     "name": "stdout",
     "output_type": "stream",
     "text": [
      "+--------------------+-------------------+---------+---------+--------------------+--------------------+\n",
      "|        committed_at|        snapshot_id|parent_id|operation|       manifest_list|             summary|\n",
      "+--------------------+-------------------+---------+---------+--------------------+--------------------+\n",
      "|2025-08-26 12:08:...|7529752829445119986|     NULL|   append|s3a://nemea-hol-v...|{spark.app.id -> ...|\n",
      "+--------------------+-------------------+---------+---------+--------------------+--------------------+\n",
      "\n"
     ]
    },
    {
     "name": "stderr",
     "output_type": "stream",
     "text": [
      "                                                                                \r"
     ]
    },
    {
     "name": "stdout",
     "output_type": "stream",
     "text": [
      "+--------------------+-------------------+-------------------+---------+--------------------+--------------------+\n",
      "|        committed_at|        snapshot_id|          parent_id|operation|       manifest_list|             summary|\n",
      "+--------------------+-------------------+-------------------+---------+--------------------+--------------------+\n",
      "|2025-08-26 12:08:...|7529752829445119986|               NULL|   append|s3a://nemea-hol-v...|{spark.app.id -> ...|\n",
      "|2025-08-26 12:08:...|2152468572081332593|7529752829445119986|overwrite|s3a://nemea-hol-v...|{spark.app.id -> ...|\n",
      "+--------------------+-------------------+-------------------+---------+--------------------+--------------------+\n",
      "\n",
      "+--------------------+-------------------+-------------------+---------+--------------------+--------------------+\n",
      "|        committed_at|        snapshot_id|          parent_id|operation|       manifest_list|             summary|\n",
      "+--------------------+-------------------+-------------------+---------+--------------------+--------------------+\n",
      "|2025-08-26 12:08:...|7529752829445119986|               NULL|   append|s3a://nemea-hol-v...|{spark.app.id -> ...|\n",
      "|2025-08-26 12:08:...|2152468572081332593|7529752829445119986|overwrite|s3a://nemea-hol-v...|{spark.app.id -> ...|\n",
      "|2025-08-26 12:08:...|2896913590520713527|2152468572081332593|   append|s3a://nemea-hol-v...|{spark.app.id -> ...|\n",
      "+--------------------+-------------------+-------------------+---------+--------------------+--------------------+\n",
      "\n"
     ]
    },
    {
     "name": "stderr",
     "output_type": "stream",
     "text": [
      "                                                                                \r"
     ]
    },
    {
     "name": "stdout",
     "output_type": "stream",
     "text": [
      "+------+----------+---------+-----------+\n",
      "|car_id|car_make  |car_model|car_country|\n",
      "+------+----------+---------+-----------+\n",
      "|C002  |BMW       |X5       |Germany    |\n",
      "|C001  |Volkswagen|Polo     |Germany    |\n",
      "|C003  |FORD      |F150     |USA        |\n",
      "+------+----------+---------+-----------+\n",
      "\n",
      "2152468572081332593\n",
      "+------+----------+---------+-----------+\n",
      "|car_id|  car_make|car_model|car_country|\n",
      "+------+----------+---------+-----------+\n",
      "|  C001|Volkswagen|     Polo|    Germany|\n",
      "|  C002|       BMW|       X5|    Germany|\n",
      "+------+----------+---------+-----------+\n",
      "\n",
      "7529752829445119986\n",
      "+------+----------+---------+-----------+\n",
      "|car_id|  car_make|car_model|car_country|\n",
      "+------+----------+---------+-----------+\n",
      "|  C001|Volkswagen|     Golf|    Germany|\n",
      "|  C002|       BMW|       X5|    Germany|\n",
      "+------+----------+---------+-----------+\n",
      "\n",
      "Code block completed\n"
     ]
    }
   ],
   "source": [
    "spark.sql(\"\"\"\n",
    "\tDROP TABLE IF EXISTS default.{}_european_cars_time_travel\n",
    "\"\"\".format(username))\n",
    "\n",
    "# Create an Iceberg table for European cars\n",
    "spark.sql(\"\"\"\n",
    "    CREATE TABLE default.{}_european_cars_time_travel (\n",
    "        car_id STRING,\n",
    "        car_make STRING,\n",
    "        car_model STRING,\n",
    "        car_country STRING\n",
    "    )\n",
    "    USING iceberg\n",
    "\"\"\".format(username))\n",
    "\n",
    "# Insert initial data\n",
    "spark.sql(\"\"\"\n",
    "    INSERT INTO default.{}_european_cars_time_travel VALUES \n",
    "    ('C001', 'Volkswagen', 'Golf', 'Germany'),\n",
    "    ('C002', 'BMW', 'X5', 'Germany')\n",
    "\"\"\".format(username))\n",
    "\n",
    "# List the available snapshots of the table\n",
    "snapshots_df = spark.sql(\"\"\"\n",
    "    SELECT * FROM default.{}_european_cars_time_travel.snapshots\n",
    "\"\"\".format(username))\n",
    "snapshots_df.show()\n",
    "\n",
    "# Perform an update operation to modify the data \n",
    "spark.sql(\"\"\"\n",
    "    UPDATE default.{}_european_cars_time_travel SET car_model = 'Polo' WHERE car_id = 'C001'\n",
    "\"\"\".format(username))\n",
    "\n",
    "snapshots_df = spark.sql(\"\"\"\n",
    "    SELECT * FROM default.{}_european_cars_time_travel.snapshots\n",
    "\"\"\".format(username))\n",
    "snapshots_df.show()\n",
    "\n",
    "# Insert new car data (Look, it's not a European Car)\n",
    "spark.sql(\"\"\"\n",
    "    INSERT INTO default.{}_european_cars_time_travel VALUES \n",
    "    ('C003', 'FORD', 'F150', 'USA')\n",
    "\"\"\".format(username))\n",
    "\n",
    "snapshots_df = spark.sql(\"\"\"\n",
    "    SELECT * FROM default.{}_european_cars_time_travel.snapshots\n",
    "\"\"\".format(username))\n",
    "snapshots_df.show()\n",
    "\n",
    "# We now have incorrect data in the table\n",
    "df = spark.sql(\"SELECT * FROM default.{}_european_cars_time_travel\".format(username))\n",
    "df.show(truncate=False)\n",
    "\n",
    "# Perform Time Travel to see the table before the insert\n",
    "# Fetch the snapshot ID from the snapshot listing\n",
    "rollback_snapshot_id_1 = snapshots_df.collect()[1].snapshot_id  \n",
    "print(rollback_snapshot_id_1)\n",
    "\n",
    "# Travel back to when the USA Cars weren't present in the table\n",
    "df_time_travel = spark.sql(\"\"\"\n",
    "    SELECT * FROM default.{0}_european_cars_time_travel VERSION AS OF {1}\n",
    "\"\"\".format(username,rollback_snapshot_id_1))\n",
    "df_time_travel.show()\n",
    "\n",
    "# Perform Time Travel to see the table before the edit\n",
    "# Fetch the snapshot ID from the snapshot listing\n",
    "rollback_snapshot_id_0 = snapshots_df.collect()[0].snapshot_id  \n",
    "print(rollback_snapshot_id_0)\n",
    "\n",
    "# Travel back to before we edited the table\n",
    "df_time_travel = spark.sql(\"\"\"\n",
    "    SELECT * FROM default.{0}_european_cars_time_travel VERSION AS OF {1}\n",
    "\"\"\".format(username,rollback_snapshot_id_0))\n",
    "df_time_travel.show()\n",
    "\n",
    "print(\"Code block completed\")"
   ]
  },
  {
   "cell_type": "markdown",
   "metadata": {},
   "source": [
    "### Rollback Tables Using Snapshots\n",
    "\n",
    "**What is Rollback in Iceberg?**\n",
    "Rollback in Iceberg allows you to revert the table's state to a specific snapshot, undoing any subsequent changes. This is useful in scenarios where data corruption, accidental deletion, or unwanted changes occur. By rolling back to a previous snapshot, you can restore the table to its desired state.\n",
    "\n",
    "**Key Points on Rollback:**\n",
    "  * Rollback to a Snapshot: You can roll back the table by specifying a snapshotid that corresponds to the point in time you wish to revert to.\n",
    "  * How it works: The rollback operation rewrites the table to the state of the specified snapshot, effectively \"reverting\" any changes made after that snapshot.\n",
    "  * Usage: Rollback can be useful in production environments where you need to ensure data integrity and recover from accidental modifications.\n",
    "\n",
    "**Code Example:**\n",
    "\n",
    "In your existing Jupyter notebook add a new cell and run the code below. Examine each statement and it's output to understand how DML operations create snapshots and how we can use these snapshots to do table rollbacks."
   ]
  },
  {
   "cell_type": "code",
   "execution_count": 34,
   "metadata": {},
   "outputs": [
    {
     "name": "stderr",
     "output_type": "stream",
     "text": [
      "                                                                                \r"
     ]
    },
    {
     "name": "stdout",
     "output_type": "stream",
     "text": [
      "+------+----------+---------+-----------+\n",
      "|car_id|car_make  |car_model|car_country|\n",
      "+------+----------+---------+-----------+\n",
      "|C002  |BMW       |X5       |Germany    |\n",
      "|C003  |FORD      |F150     |USA        |\n",
      "|C001  |Volkswagen|Polo     |Germany    |\n",
      "+------+----------+---------+-----------+\n",
      "\n",
      "+--------------------+-------------------+-------------------+---------+--------------------+--------------------+\n",
      "|        committed_at|        snapshot_id|          parent_id|operation|       manifest_list|             summary|\n",
      "+--------------------+-------------------+-------------------+---------+--------------------+--------------------+\n",
      "|2025-08-26 12:11:...|1042867228722782956|               NULL|   append|s3a://nemea-hol-v...|{spark.app.id -> ...|\n",
      "|2025-08-26 12:11:...|4192624402656629231|1042867228722782956|overwrite|s3a://nemea-hol-v...|{spark.app.id -> ...|\n",
      "|2025-08-26 12:11:...|8503067291597012548|4192624402656629231|   append|s3a://nemea-hol-v...|{spark.app.id -> ...|\n",
      "+--------------------+-------------------+-------------------+---------+--------------------+--------------------+\n",
      "\n",
      "+--------------------+-------------------+\n",
      "|previous_snapshot_id|current_snapshot_id|\n",
      "+--------------------+-------------------+\n",
      "| 8503067291597012548|1042867228722782956|\n",
      "+--------------------+-------------------+\n",
      "\n",
      "+------+----------+---------+-----------+\n",
      "|car_id|car_make  |car_model|car_country|\n",
      "+------+----------+---------+-----------+\n",
      "|C001  |Volkswagen|Golf     |Germany    |\n",
      "|C002  |BMW       |X5       |Germany    |\n",
      "+------+----------+---------+-----------+\n",
      "\n",
      "Code block completed\n"
     ]
    },
    {
     "name": "stderr",
     "output_type": "stream",
     "text": [
      "                                                                                \r"
     ]
    }
   ],
   "source": [
    "# Drop the table if it exists\n",
    "spark.sql(\"DROP TABLE IF EXISTS default.{}_european_cars_rollback\".format(username))\n",
    "\n",
    "# Create an Iceberg table for European cars\n",
    "spark.sql(\"\"\"\n",
    "    CREATE TABLE default.{}_european_cars_rollback (\n",
    "        car_id STRING,\n",
    "        car_make STRING,\n",
    "        car_model STRING,\n",
    "        car_country STRING\n",
    "    )\n",
    "    USING iceberg\n",
    "\"\"\".format(username))\n",
    "\n",
    "# Insert initial data\n",
    "spark.sql(\"\"\"\n",
    "    INSERT INTO default.{}_european_cars_rollback VALUES \n",
    "    ('C001', 'Volkswagen', 'Golf', 'Germany'),\n",
    "    ('C002', 'BMW', 'X5', 'Germany')\n",
    "\"\"\".format(username))\n",
    "\n",
    "# Perform an update operation to modify the data \n",
    "spark.sql(\"\"\"\n",
    "    UPDATE default.{}_european_cars_rollback SET car_model = 'Polo' WHERE car_id = 'C001'\n",
    "\"\"\".format(username))\n",
    "\n",
    "# Insert new car data (Look, it's not a European Car)\n",
    "spark.sql(\"\"\"\n",
    "    INSERT INTO default.{}_european_cars_rollback VALUES \n",
    "    ('C003', 'FORD', 'F150', 'USA')\n",
    "\"\"\".format(username))\n",
    "\n",
    "# Show the updated table data\n",
    "df = spark.sql(\"SELECT * FROM default.{}_european_cars_rollback\".format(username))\n",
    "df.show(truncate=False)\n",
    "\n",
    "# List the available snapshots of the table\n",
    "snapshots_df = spark.sql(\"\"\"\n",
    "    SELECT * FROM default.{}_european_cars_rollback.snapshots\n",
    "\"\"\".format(username))\n",
    "snapshots_df.show()\n",
    "\n",
    "# Rollback to the initial table state (before the USA Cars and Edits)\n",
    "first_snapshot = snapshots_df.collect()[0].snapshot_id  \n",
    "\n",
    "# Call the Roll Back Command\n",
    "spark.sql(\"CALL spark_catalog.system.rollback_to_snapshot('default.{0}_european_cars_rollback', {1})\".format(username,first_snapshot)).show()\n",
    "\n",
    "# Show the table data after rollback\n",
    "df = spark.sql(\"SELECT * FROM default.{}_european_cars_rollback\".format(username))\n",
    "df.show(truncate=False)\n",
    "\n",
    "print(\"Code block completed\")"
   ]
  },
  {
   "cell_type": "markdown",
   "metadata": {},
   "source": [
    "## Lab 6: Iceberg Tagging, Branching and Merging\n",
    "\n",
    "![alt text](https://raw.githubusercontent.com/richard-vh/iceberg-spark-hol/refs/heads/main/img/icebergbranchtag.png)\n",
    "\n",
    "### Iceberg Tagging\n",
    "\n",
    "**What Are Tags in Iceberg?**\n",
    "  * Tags in Iceberg are a way to label or annotate specific versions of a table.\n",
    "  * A tag can be used to mark a specific snapshot, making it easier to reference or roll back to a particular point in time.\n",
    "  * Tags help manage the history and versions of the dataset, providing a mechanism for versioning without needing to create multiple tables.\n",
    "\n",
    "**How to Use Tags for Versioning and Metadata**\n",
    "  * Versioning: Tags allow you to mark versions of data with meaningful names like v1.0, snapshot_2025_01_01, or test_run.\n",
    "  * Metadata Management: You can attach custom metadata to snapshots, such as the name of the person who performed a change or the reason for a particular change.\n",
    "  * Tags can be helpful when needing to easily access a specific version or snapshot of data without remembering the snapshot ID.\n",
    "\n",
    "**Code Example:**\n",
    "\n",
    "In your existing Jupyter notebook add a new cell and run the code below. Examine each statement and it's output to understand how tags are created in Iceberg tables and can be used to query table data at a point in time using a tag name as opposed to using a snapshot id."
   ]
  },
  {
   "cell_type": "code",
   "execution_count": 35,
   "metadata": {},
   "outputs": [
    {
     "name": "stderr",
     "output_type": "stream",
     "text": [
      "                                                                                \r"
     ]
    },
    {
     "name": "stdout",
     "output_type": "stream",
     "text": [
      "+-----------+--------------------------+--------+------------------------------------------------------------+\n",
      "|landmark_id|landmark_name             |location|description                                                 |\n",
      "+-----------+--------------------------+--------+------------------------------------------------------------+\n",
      "|L003       |Queen’s University Belfast|Belfast |A prestigious university known for its research and history |\n",
      "|L004       |Stormont                  |Belfast |Northern Ireland’s parliament buildings and grounds         |\n",
      "|L005       |Crumlin Road Gaol         |Belfast |Historic prison turned into a museum                        |\n",
      "|L006       |Botanic Gardens           |Belfast |Public gardens featuring the Palm House and Tropical Ravine |\n",
      "|L007       |Ulster Museum             |Belfast |A museum housing art, history, and natural sciences exhibits|\n",
      "|L008       |Titanic Dry Dock          |Belfast |The historic dock where the RMS Titanic was fitted out      |\n",
      "|L001       |Titanic Belfast           |Belfast |Interactive museum about the RMS Titanic                    |\n",
      "|L002       |Belfast Castle            |Belfast |19th-century castle offering views of the city and hills    |\n",
      "+-----------+--------------------------+--------+------------------------------------------------------------+\n",
      "\n",
      "+--------+------+-------------------+-----------------------+---------------------+----------------------+\n",
      "|name    |type  |snapshot_id        |max_reference_age_in_ms|min_snapshots_to_keep|max_snapshot_age_in_ms|\n",
      "+--------+------+-------------------+-----------------------+---------------------+----------------------+\n",
      "|5DAY_TAG|TAG   |2172074667110764721|432000000              |NULL                 |NULL                  |\n",
      "|main    |BRANCH|5330798663891755717|NULL                   |NULL                 |NULL                  |\n",
      "+--------+------+-------------------+-----------------------+---------------------+----------------------+\n",
      "\n"
     ]
    },
    {
     "name": "stderr",
     "output_type": "stream",
     "text": [
      "[Stage 118:>                                                        (0 + 1) / 1]\r"
     ]
    },
    {
     "name": "stdout",
     "output_type": "stream",
     "text": [
      "+-----------+---------------+--------+--------------------------------------------------------+\n",
      "|landmark_id|landmark_name  |location|description                                             |\n",
      "+-----------+---------------+--------+--------------------------------------------------------+\n",
      "|L001       |Titanic Belfast|Belfast |Interactive museum about the RMS Titanic                |\n",
      "|L002       |Belfast Castle |Belfast |19th-century castle offering views of the city and hills|\n",
      "+-----------+---------------+--------+--------------------------------------------------------+\n",
      "\n",
      "Code block completed\n"
     ]
    },
    {
     "name": "stderr",
     "output_type": "stream",
     "text": [
      "                                                                                \r"
     ]
    }
   ],
   "source": [
    "# DROP THE LANDMARKS TABLE IF IT EXISTS\n",
    "spark.sql(\"DROP TABLE IF EXISTS default.{}_belfast_landmarks\".format(username))\n",
    "\n",
    "# CREATE ICEBERG TABLE TO STORE LANDMARK DATA\n",
    "spark.sql(\"\"\"\n",
    "    CREATE TABLE IF NOT EXISTS default.{}_belfast_landmarks (\n",
    "        landmark_id STRING,\n",
    "        landmark_name STRING,\n",
    "        location STRING,\n",
    "        description STRING\n",
    "    )\n",
    "    USING iceberg\n",
    "\"\"\".format(username))\n",
    "\n",
    "# INSERT SAMPLE DATA INTO THE LANDMARKS TABLE\n",
    "spark.sql(\"\"\"\n",
    "    INSERT INTO default.{}_belfast_landmarks VALUES \n",
    "    ('L001', 'Titanic Belfast', 'Belfast', 'Interactive museum about the RMS Titanic'),\n",
    "    ('L002', 'Belfast Castle', 'Belfast', '19th-century castle offering views of the city and hills')\n",
    "\"\"\".format(username))\n",
    "\n",
    "# CREATE TAG FOR THE LANDMARKS TABLE WITH RETENTION PERIOD\n",
    "spark.sql(\"\"\"\n",
    "    ALTER TABLE default.{}_belfast_landmarks CREATE TAG 5DAY_TAG RETAIN 5 DAYS\n",
    "\"\"\".format(username))\n",
    "\n",
    "# INSERT ADDITIONAL SAMPLE DATA INTO THE LANDMARKS TABLE\n",
    "spark.sql(\"\"\"\n",
    "    INSERT INTO default.{}_belfast_landmarks VALUES \n",
    "    ('L003', 'Queen’s University Belfast', 'Belfast', 'A prestigious university known for its research and history'),\n",
    "    ('L004', 'Stormont', 'Belfast', 'Northern Ireland’s parliament buildings and grounds'),\n",
    "    ('L005', 'Crumlin Road Gaol', 'Belfast', 'Historic prison turned into a museum'),\n",
    "    ('L006', 'Botanic Gardens', 'Belfast', 'Public gardens featuring the Palm House and Tropical Ravine'),\n",
    "    ('L007', 'Ulster Museum', 'Belfast', 'A museum housing art, history, and natural sciences exhibits'),\n",
    "    ('L008', 'Titanic Dry Dock', 'Belfast', 'The historic dock where the RMS Titanic was fitted out')\n",
    "\"\"\".format(username))\n",
    "\n",
    "# QUERY AND DISPLAY THE DATA INSERTED INTO THE LANDMARKS TABLE\n",
    "df = spark.sql(\"SELECT * FROM default.{}_belfast_landmarks\".format(username))\n",
    "df.show(100, False)\n",
    "\n",
    "# QUERY AND DISPLAY REFERENCE DATA (TAGS) FOR THE LANDMARKS TABLE\n",
    "spark.sql(\"SELECT * FROM default.{}_belfast_landmarks.refs\".format(username)).show(100, False)\n",
    "\n",
    "spark.sql(\"SELECT * FROM default.{}_belfast_landmarks VERSION AS OF '5DAY_TAG'\".format(username)).show(100, False)\n",
    "\n",
    "print(\"Code block completed\")"
   ]
  },
  {
   "cell_type": "markdown",
   "metadata": {},
   "source": [
    "### Creating Branches in Iceberg\n",
    "\n",
    "**What is branching in Iceberg?**\n",
    "Branching in Iceberg is the ability to create isolated environments to work with the data. Think of how branches work it Git repositories. These branches allow you to perform operations such as inserting, updating, or deleting data without affecting the main production data. Branching in Iceberg helps in creating versions of the data for testing, experimentation, or new features, and once the branch is ready, it can be merged back into the main branch.\n",
    "\n",
    "**Why and when to use branches?**\n",
    "  * Testing new features (e.g., testing new health metrics without affecting the existing production data).\n",
    "  * Running experiments or simulations.\n",
    "  * Isolating changes until they are confirmed to be stable and ready to be merged.\n",
    "  * Collaborating with different teams on separate data versions before consolidating the changes.\n",
    "\n",
    "**Code Example:**\n",
    "\n",
    "In your existing Jupyter notebook add a new cell and run the code below. Examine each statement and it's output to understand how branches are created in Iceberg tables and how branch data can be isolated from the main table data."
   ]
  },
  {
   "cell_type": "code",
   "execution_count": 36,
   "metadata": {},
   "outputs": [
    {
     "name": "stderr",
     "output_type": "stream",
     "text": [
      "                                                                                \r"
     ]
    },
    {
     "name": "stdout",
     "output_type": "stream",
     "text": [
      "+----------+------------+---+------------+-------------+-----------+\n",
      "|patient_id|patient_name|age|   diagnosis|    treatment|     doctor|\n",
      "+----------+------------+---+------------+-------------+-----------+\n",
      "|      P001|    John Doe| 45|Hypertension|Beta-blockers|  Dr. Smith|\n",
      "|      P002|    Jane Roe| 50|    Diabetes|      Insulin|Dr. Johnson|\n",
      "|      P999|   Richard V| 99|    Headache|         Time|   Dr. Jeff|\n",
      "+----------+------------+---+------------+-------------+-----------+\n",
      "\n",
      "+----------+------------+---+------------+-------------+-----------+\n",
      "|patient_id|patient_name|age|   diagnosis|    treatment|     doctor|\n",
      "+----------+------------+---+------------+-------------+-----------+\n",
      "|      P001|    John Doe| 45|Hypertension|Beta-blockers|  Dr. Smith|\n",
      "|      P002|    Jane Roe| 50|    Diabetes|      Insulin|Dr. Johnson|\n",
      "+----------+------------+---+------------+-------------+-----------+\n",
      "\n",
      "Code block completed\n"
     ]
    }
   ],
   "source": [
    "# Drop the table if it exists, so we can rerun the code\n",
    "spark.sql(\"DROP TABLE IF EXISTS default.{}_healthcare_patient_data\".format(username))\n",
    "\n",
    "# Create an Iceberg table for healthcare patient data\n",
    "spark.sql(\"\"\"\n",
    "    CREATE TABLE default.{}_healthcare_patient_data (\n",
    "        patient_id STRING,\n",
    "        patient_name STRING,\n",
    "        age INT,\n",
    "        diagnosis STRING,\n",
    "        treatment STRING,\n",
    "        doctor STRING\n",
    "    )\n",
    "    USING iceberg\n",
    "\"\"\".format(username))\n",
    "\n",
    "# Insert initial patient data into the base table (CREATES A SNAPSHOT)\n",
    "spark.sql(\"\"\"\n",
    "    INSERT INTO default.{}_healthcare_patient_data VALUES \n",
    "    ('P001', 'John Doe', 45, 'Hypertension', 'Beta-blockers', 'Dr. Smith'),\n",
    "    ('P002', 'Jane Roe', 50, 'Diabetes', 'Insulin', 'Dr. Johnson')\n",
    "\"\"\".format(username))\n",
    "\n",
    "# CREATE A BRANCH \n",
    "spark.sql(\"ALTER TABLE default.{}_healthcare_patient_data CREATE BRANCH testing_branch\".format(username))\n",
    "\n",
    "# Insert initial patient data into the base table (CREATES A SNAPSHOT)\n",
    "spark.sql(\"\"\"\n",
    "    INSERT INTO default.{}_healthcare_patient_data.branch_testing_branch VALUES \n",
    "    ('P999', 'Richard V', 99, 'Headache', 'Time', 'Dr. Jeff')\n",
    "\"\"\".format(username))\n",
    "\n",
    "# Branch should contain the new data\n",
    "spark.sql(\"select * from default.{}_healthcare_patient_data.branch_testing_branch\".format(username)).show()\n",
    "\n",
    "# Main table is untouched \n",
    "spark.sql(\"select * from default.{}_healthcare_patient_data\".format(username)).show()\n",
    "\n",
    "print(\"Code block completed\")"
   ]
  },
  {
   "cell_type": "markdown",
   "metadata": {},
   "source": [
    "### Merging Iceberg Branches\n",
    "\n",
    "**What does it mean to merge branches in Iceberg?**\n",
    "Merging branches in Iceberg means consolidating the changes made in a branch into the main branch. This allows updates, experiments, or testing to be brought into the mainline data once they are confirmed to be stable or necessary.\n",
    "\n",
    "**How merging works in Iceberg**\n",
    "  * You can merge changes from a branch back into the main dataset.\n",
    "  * The merge operation only applies changes from the branch and doesn't affect the main branch unless there are new or modified records that need to be merged.\n",
    "  * Iceberg provides methods to merge only certain changes from a branch or completely merge all data between branches.\n",
    "\n",
    "**Code Example:**\n",
    "\n",
    "In your existing Jupyter notebook add a new cell and run the code below. Examine each statement and it's output to understand how isolated data created branches can be merged back into the main branch of Iceberg tables."
   ]
  },
  {
   "cell_type": "code",
   "execution_count": 38,
   "metadata": {},
   "outputs": [
    {
     "name": "stderr",
     "output_type": "stream",
     "text": [
      "25/08/26 14:12:05 WARN  conf.HiveConf: [Thread-3]: HiveConf of name hive.stats.jdbc.timeout does not exist\n",
      "25/08/26 14:12:05 WARN  conf.HiveConf: [Thread-3]: HiveConf of name hive.metastore.runworker.in does not exist\n",
      "25/08/26 14:12:05 WARN  conf.HiveConf: [Thread-3]: HiveConf of name hive.stats.retries.wait does not exist\n",
      "25/08/26 14:12:05 WARN  conf.HiveConf: [Thread-3]: HiveConf of name hive.stats.jdbc.timeout does not exist\n",
      "25/08/26 14:12:05 WARN  conf.HiveConf: [Thread-3]: HiveConf of name hive.metastore.runworker.in does not exist\n",
      "25/08/26 14:12:05 WARN  conf.HiveConf: [Thread-3]: HiveConf of name hive.stats.retries.wait does not exist\n",
      "25/08/26 14:12:05 WARN  conf.HiveConf: [Thread-3]: HiveConf of name hive.metastore.runworker.in does not exist\n",
      "                                                                                \r"
     ]
    },
    {
     "name": "stdout",
     "output_type": "stream",
     "text": [
      "+----------+------------+---+------------+-------------+-----------+\n",
      "|patient_id|patient_name|age|   diagnosis|    treatment|     doctor|\n",
      "+----------+------------+---+------------+-------------+-----------+\n",
      "|      P999|   Richard V| 99|    Headache|         Time|   Dr. Jeff|\n",
      "|      P001|    John Doe| 45|Hypertension|Beta-blockers|  Dr. Smith|\n",
      "|      P002|    Jane Roe| 51|    Diabetes|      Insulin|Dr. Johnson|\n",
      "+----------+------------+---+------------+-------------+-----------+\n",
      "\n"
     ]
    },
    {
     "name": "stderr",
     "output_type": "stream",
     "text": [
      "                                                                                \r"
     ]
    },
    {
     "name": "stdout",
     "output_type": "stream",
     "text": [
      "+----------+------------+---+------------+-------------+-----------+\n",
      "|patient_id|patient_name|age|   diagnosis|    treatment|     doctor|\n",
      "+----------+------------+---+------------+-------------+-----------+\n",
      "|      P001|    John Doe| 45|Hypertension|Beta-blockers|  Dr. Smith|\n",
      "|      P002|    Jane Roe| 51|    Diabetes|      Insulin|Dr. Johnson|\n",
      "+----------+------------+---+------------+-------------+-----------+\n",
      "\n"
     ]
    },
    {
     "name": "stderr",
     "output_type": "stream",
     "text": [
      "                                                                                \r"
     ]
    },
    {
     "name": "stdout",
     "output_type": "stream",
     "text": [
      "+----------+--------------+---+------------+---------------+-----------+\n",
      "|patient_id|  patient_name|age|   diagnosis|      treatment|     doctor|\n",
      "+----------+--------------+---+------------+---------------+-----------+\n",
      "|      P003| Joe Turquoise| 37|   Allergies| Antihistamines|  Dr. Smith|\n",
      "|      P004|James Nuicance| 44|  Depression|Antidepressants| Dr. Ervine|\n",
      "|      P001|      John Doe| 45|Hypertension|  Beta-blockers|  Dr. Smith|\n",
      "|      P002|      Jane Roe| 51|    Diabetes|        Insulin|Dr. Johnson|\n",
      "|      P999|     Richard V| 99|    Headache|           Time|   Dr. Jeff|\n",
      "+----------+--------------+---+------------+---------------+-----------+\n",
      "\n",
      "Code block completed\n"
     ]
    }
   ],
   "source": [
    "# Drop the table if it exists, so we can rerun the code\n",
    "spark.sql(\"DROP TABLE IF EXISTS default.{}_healthcare_patient_data\".format(username))\n",
    "\n",
    "# Create an Iceberg table for healthcare patient data\n",
    "spark.sql(\"\"\"\n",
    "    CREATE TABLE default.{}_healthcare_patient_data (\n",
    "        patient_id STRING,\n",
    "        patient_name STRING,\n",
    "        age INT,\n",
    "        diagnosis STRING,\n",
    "        treatment STRING,\n",
    "        doctor STRING\n",
    "    )\n",
    "    USING iceberg\n",
    "\"\"\".format(username))\n",
    "\n",
    "# Insert initial patient data into the base table (CREATES A SNAPSHOT)\n",
    "spark.sql(\"\"\"\n",
    "    INSERT INTO default.{}_healthcare_patient_data VALUES \n",
    "    ('P001', 'John Doe', 45, 'Hypertension', 'Beta-blockers', 'Dr. Smith'),\n",
    "    ('P002', 'Jane Roe', 51, 'Diabetes', 'Insulin', 'Dr. Johnson')\n",
    "\"\"\".format(username))\n",
    "\n",
    "# CREATE A BRANCH \n",
    "spark.sql(\"ALTER TABLE default.{}_healthcare_patient_data CREATE BRANCH testing_branch\".format(username))\n",
    "\n",
    "# Insert initial patient data into the base table (CREATES A SNAPSHOT)\n",
    "spark.sql(\"\"\"\n",
    "    INSERT INTO default.{}_healthcare_patient_data.branch_testing_branch VALUES \n",
    "    ('P999', 'Richard V', 99, 'Headache', 'Time', 'Dr. Jeff')\n",
    "\"\"\".format(username))\n",
    "\n",
    "# Branch should contain the new data\n",
    "spark.sql(\"select * from default.{}_healthcare_patient_data.branch_testing_branch\".format(username)).show()\n",
    "\n",
    "# Main table is untouched \n",
    "spark.sql(\"select * from default.{}_healthcare_patient_data\".format(username)).show()\n",
    "\n",
    "# Insert secondary patient data into the base table (CREATES A SNAPSHOT)\n",
    "spark.sql(\"\"\"\n",
    "    INSERT INTO default.{}_healthcare_patient_data VALUES \n",
    "    ('P003', 'Joe Turquoise', 37, 'Allergies', 'Antihistamines', 'Dr. Smith'),\n",
    "    ('P004', 'James Nuicance', 44, 'Depression', 'Antidepressants', 'Dr. Ervine')\n",
    "\"\"\".format(username))\n",
    "\n",
    "# Merge the branch back into the base table\n",
    "spark.sql(\"\"\"\n",
    "    MERGE INTO default.{}_healthcare_patient_data AS base\n",
    "    USING default.{}_healthcare_patient_data.branch_testing_branch AS branch\n",
    "    ON base.patient_id = branch.patient_id\n",
    "    WHEN MATCHED THEN UPDATE SET base.patient_name = branch.patient_name,\n",
    "                                  base.age = branch.age,\n",
    "                                  base.diagnosis = branch.diagnosis,\n",
    "                                  base.treatment = branch.treatment,\n",
    "                                  base.doctor = branch.doctor\n",
    "    WHEN NOT MATCHED THEN INSERT (patient_id, patient_name, age, diagnosis, treatment, doctor)\n",
    "    VALUES (branch.patient_id, branch.patient_name, branch.age, branch.diagnosis, branch.treatment, branch.doctor)\n",
    "\"\"\".format(username,username))\n",
    "\n",
    "# BRANCH HAS NOW BEEN MERGED INTO BASE\n",
    "spark.sql(\"select * from default.{}_healthcare_patient_data\".format(username)).show()\n",
    "\n",
    "# Drop the branch after the merge if no longer needed\n",
    "spark.sql(\"ALTER TABLE default.{}_healthcare_patient_data DROP BRANCH testing_branch\".format(username))\n",
    "\n",
    "print(\"Code block completed\")"
   ]
  },
  {
   "cell_type": "markdown",
   "metadata": {},
   "source": [
    "## Lab 7: Migrating tables from Hive to Iceberg\n",
    "\n",
    "### “CONVERT” In-Place Migration Vanilla Parquet to Iceberg\n",
    "\n",
    "![alt text](https://raw.githubusercontent.com/richard-vh/iceberg-spark-hol/refs/heads/main/img/icebergmigrate.png)\n",
    "\n",
    "**Background**\n",
    "\n",
    "In-place migration from Parquet to Iceberg allows seamless conversion without moving data or creating a new table and is almost instantaneous as only the metadata is rewritten. Data files are not affected.\n",
    "\n",
    "**Code Example:**\n",
    "\n",
    "In your existing Jupyter notebook add a new cell and run the code below. Examine each statement and it's output to understand how a Hive table is migratred in-place to an Iceberg table.\n",
    "\n",
    "> **TIP:** \n",
    "> Using an in-place table migration is the fastest, most efficient way to convert tables to Iceberg tables as just the metadata is rewritten, not the data files."
   ]
  },
  {
   "cell_type": "code",
   "execution_count": 39,
   "metadata": {},
   "outputs": [
    {
     "name": "stderr",
     "output_type": "stream",
     "text": [
      "25/08/26 14:15:51 WARN  conf.HiveConf: [SparkCatalogEventProcessor-thread]: HiveConf of name hive.metastore.runworker.in does not exist\n",
      "                                                                                \r"
     ]
    },
    {
     "name": "stdout",
     "output_type": "stream",
     "text": [
      "+-----------------+-------------+\n",
      "|cloudera_employee|cloudera_role|\n",
      "+-----------------+-------------+\n",
      "|         Jane Pas|           PS|\n",
      "|          Joe Cur|           SE|\n",
      "+-----------------+-------------+\n",
      "\n",
      "+--------------------+--------------------+-------+\n",
      "|            col_name|           data_type|comment|\n",
      "+--------------------+--------------------+-------+\n",
      "|   cloudera_employee|              string|   NULL|\n",
      "|       cloudera_role|              string|   NULL|\n",
      "|                    |                    |       |\n",
      "|# Detailed Table ...|                    |       |\n",
      "|             Catalog|       spark_catalog|       |\n",
      "|            Database|             default|       |\n",
      "|               Table|user001_cloudera_...|       |\n",
      "|               Owner|             user001|       |\n",
      "|        Created Time|Tue Aug 26 14:15:...|       |\n",
      "|         Last Access|             UNKNOWN|       |\n",
      "|          Created By|Spark 3.5.4.7.3.1...|       |\n",
      "|                Type|            EXTERNAL|       |\n",
      "|            Provider|             PARQUET|       |\n",
      "|    Table Properties|[TRANSLATED_TO_EX...|       |\n",
      "|            Location|s3a://nemea-hol-v...|       |\n",
      "|       Serde Library|org.apache.hadoop...|       |\n",
      "|         InputFormat|org.apache.hadoop...|       |\n",
      "|        OutputFormat|org.apache.hadoop...|       |\n",
      "+--------------------+--------------------+-------+\n",
      "\n"
     ]
    },
    {
     "name": "stderr",
     "output_type": "stream",
     "text": [
      "[Stage 176:>                                                        (0 + 1) / 1]\r"
     ]
    },
    {
     "name": "stdout",
     "output_type": "stream",
     "text": [
      "+-----------------+-------------+\n",
      "|cloudera_employee|cloudera_role|\n",
      "+-----------------+-------------+\n",
      "|          Joe Cur|           SE|\n",
      "|         Jane Pas|           PS|\n",
      "+-----------------+-------------+\n",
      "\n",
      "+--------------------+--------------------+-------+\n",
      "|            col_name|           data_type|comment|\n",
      "+--------------------+--------------------+-------+\n",
      "|   cloudera_employee|              string|   NULL|\n",
      "|       cloudera_role|              string|   NULL|\n",
      "|                    |                    |       |\n",
      "|  # Metadata Columns|                    |       |\n",
      "|            _spec_id|                 int|       |\n",
      "|          _partition|            struct<>|       |\n",
      "|               _file|              string|       |\n",
      "|                _pos|              bigint|       |\n",
      "|            _deleted|             boolean|       |\n",
      "|                    |                    |       |\n",
      "|# Detailed Table ...|                    |       |\n",
      "|                Name|spark_catalog.def...|       |\n",
      "|                Type|             MANAGED|       |\n",
      "|            Location|s3a://nemea-hol-v...|       |\n",
      "|            Provider|             iceberg|       |\n",
      "|    Table Properties|[TRANSLATED_TO_EX...|       |\n",
      "+--------------------+--------------------+-------+\n",
      "\n",
      "Code block completed\n"
     ]
    },
    {
     "name": "stderr",
     "output_type": "stream",
     "text": [
      "                                                                                \r"
     ]
    }
   ],
   "source": [
    "# Create a regular Parquet table with sample data\n",
    "spark.sql(\"\"\"\n",
    "    CREATE TABLE default.{}_cloudera_parquet (\n",
    "        cloudera_employee STRING,\n",
    "        cloudera_role STRING\n",
    "    )\n",
    "    USING PARQUET\n",
    "\"\"\".format(username))\n",
    "\n",
    "# Insert records into the Parquet table\n",
    "spark.sql(\"\"\"\n",
    "    INSERT INTO default.{}_cloudera_parquet VALUES\n",
    "    ('Joe Cur', 'SE'),\n",
    "    ('Jane Pas', 'PS')\n",
    "\"\"\".format(username))\n",
    "\n",
    "# Display the contents of the Parquet table\n",
    "spark.sql(\"SELECT * FROM default.{}_cloudera_parquet\".format(username)).show()\n",
    "\n",
    "# Describe the Parquet table before migration\n",
    "spark.sql(\"DESCRIBE FORMATTED default.{}_cloudera_parquet\".format(username)).show()\n",
    "\n",
    "# Perform in-place migration from Parquet to Iceberg\n",
    "spark.sql(\"CALL system.migrate('default.{}_cloudera_parquet')\".format(username))\n",
    "\n",
    "# Verify the migration by querying the table again\n",
    "spark.sql(\"SELECT * FROM default.{}_cloudera_parquet\".format(username)).show()\n",
    "\n",
    "# Describe the table after migration to confirm Iceberg format\n",
    "spark.sql(\"DESCRIBE FORMATTED default.{}_cloudera_parquet\".format(username)).show()\n",
    "\n",
    "print(\"Code block completed\")"
   ]
  },
  {
   "cell_type": "markdown",
   "metadata": {},
   "source": [
    "### “Create Table As” (CATS) Migration from Vanilla Parquet to Iceberg\n",
    "\n",
    "**Background**\n",
    "\n",
    "When migrating from Hive to Iceberg, one of the common approaches is to use the CREATE TABLE AS (CTAS) statement. This method allows you to create a new Iceberg table and populate it with data from an existing Hive table in one step, but for very large tables this can be more resource intensive and time consuming.\n",
    "\n",
    "**Code Example:**\n",
    "\n",
    "In your existing Jupyter notebook add a new cell and run the code below. Examine each statement and it's output to understand how isolated data created branches can be merged back into the main branch of Iceberg tables."
   ]
  },
  {
   "cell_type": "code",
   "execution_count": 40,
   "metadata": {},
   "outputs": [
    {
     "name": "stderr",
     "output_type": "stream",
     "text": [
      "                                                                                \r"
     ]
    },
    {
     "name": "stdout",
     "output_type": "stream",
     "text": [
      "+-----------------+-------------+\n",
      "|cloudera_employee|cloudera_role|\n",
      "+-----------------+-------------+\n",
      "|         Jane Pas|           PS|\n",
      "|          Joe Cur|           SE|\n",
      "+-----------------+-------------+\n",
      "\n",
      "+--------------------+--------------------+-------+\n",
      "|            col_name|           data_type|comment|\n",
      "+--------------------+--------------------+-------+\n",
      "|   cloudera_employee|              string|   NULL|\n",
      "|       cloudera_role|              string|   NULL|\n",
      "|                    |                    |       |\n",
      "|# Detailed Table ...|                    |       |\n",
      "|             Catalog|       spark_catalog|       |\n",
      "|            Database|             default|       |\n",
      "|               Table|user001_ctas_clou...|       |\n",
      "|               Owner|             user001|       |\n",
      "|        Created Time|Tue Aug 26 14:17:...|       |\n",
      "|         Last Access|             UNKNOWN|       |\n",
      "|          Created By|Spark 3.5.4.7.3.1...|       |\n",
      "|                Type|            EXTERNAL|       |\n",
      "|            Provider|             PARQUET|       |\n",
      "|    Table Properties|[TRANSLATED_TO_EX...|       |\n",
      "|            Location|s3a://nemea-hol-v...|       |\n",
      "|       Serde Library|org.apache.hadoop...|       |\n",
      "|         InputFormat|org.apache.hadoop...|       |\n",
      "|        OutputFormat|org.apache.hadoop...|       |\n",
      "+--------------------+--------------------+-------+\n",
      "\n"
     ]
    },
    {
     "name": "stderr",
     "output_type": "stream",
     "text": [
      "25/08/26 14:17:22 WARN  producer.ProducerConfig: [Atlas Notifier 0]: These configurations '[key.deserializer, value.deserializer, max.poll.records, zookeeper.connection.timeout.ms, zookeeper.session.timeout.ms, enable.auto.commit, zookeeper.connect, zookeeper.sync.time.ms, session.timeout.ms, auto.offset.reset]' were supplied but are not used yet.\n"
     ]
    },
    {
     "name": "stdout",
     "output_type": "stream",
     "text": [
      "+-----------------+-------------+\n",
      "|cloudera_employee|cloudera_role|\n",
      "+-----------------+-------------+\n",
      "|         Jane Pas|           PS|\n",
      "|          Joe Cur|           SE|\n",
      "+-----------------+-------------+\n",
      "\n",
      "+--------------------+--------------------+-------+\n",
      "|            col_name|           data_type|comment|\n",
      "+--------------------+--------------------+-------+\n",
      "|   cloudera_employee|              string|   NULL|\n",
      "|       cloudera_role|              string|   NULL|\n",
      "|                    |                    |       |\n",
      "|  # Metadata Columns|                    |       |\n",
      "|            _spec_id|                 int|       |\n",
      "|          _partition|            struct<>|       |\n",
      "|               _file|              string|       |\n",
      "|                _pos|              bigint|       |\n",
      "|            _deleted|             boolean|       |\n",
      "|                    |                    |       |\n",
      "|# Detailed Table ...|                    |       |\n",
      "|                Name|spark_catalog.def...|       |\n",
      "|                Type|             MANAGED|       |\n",
      "|            Location|s3a://nemea-hol-v...|       |\n",
      "|            Provider|             iceberg|       |\n",
      "|               Owner|             user001|       |\n",
      "|    Table Properties|[current-snapshot...|       |\n",
      "+--------------------+--------------------+-------+\n",
      "\n",
      "Code block completed\n"
     ]
    }
   ],
   "source": [
    "# Drop existing tables if they exist\n",
    "spark.sql(\"DROP TABLE IF EXISTS default.{}_ctas_cloudera_parquet\".format(username))\n",
    "spark.sql(\"DROP TABLE IF EXISTS default.{}_ctas_cloudera_iceberg\".format(username))\n",
    "\n",
    "# Create a Parquet table\n",
    "spark.sql(\"\"\"\n",
    "    CREATE TABLE default.{}_ctas_cloudera_parquet (\n",
    "        cloudera_employee STRING,\n",
    "        cloudera_role STRING\n",
    "    )\n",
    "    USING PARQUET\n",
    "\"\"\".format(username))\n",
    "\n",
    "# Insert sample data into the Parquet table\n",
    "spark.sql(\"\"\"\n",
    "    INSERT INTO default.{}_ctas_cloudera_parquet VALUES\n",
    "    ('Joe Cur', 'SE'),\n",
    "    ('Jane Pas', 'PS')\n",
    "\"\"\".format(username))\n",
    "\n",
    "# Display the contents of the Parquet table\n",
    "spark.sql(\"SELECT * FROM default.{}_ctas_cloudera_parquet\".format(username)).show()\n",
    "\n",
    "# Describe the Parquet table structure\n",
    "spark.sql(\"DESCRIBE FORMATTED default.{}_ctas_cloudera_parquet\".format(username)).show()\n",
    "\n",
    "# Create an Iceberg table from the Parquet table\n",
    "spark.sql(\"\"\"\n",
    "    CREATE TABLE default.{}_ctas_cloudera_iceberg \n",
    "    USING iceberg \n",
    "    AS SELECT * FROM default.{}_ctas_cloudera_parquet\n",
    "\"\"\".format(username,username))\n",
    "\n",
    "# Display the contents of the Iceberg table\n",
    "spark.sql(\"SELECT * FROM default.{}_ctas_cloudera_iceberg\".format(username)).show()\n",
    "\n",
    "# Describe the Iceberg table structure\n",
    "spark.sql(\"DESCRIBE FORMATTED default.{}_ctas_cloudera_iceberg\".format(username)).show()\n",
    "\n",
    "print(\"Code block completed\")"
   ]
  },
  {
   "cell_type": "markdown",
   "metadata": {},
   "source": [
    "## Lab 8: Iceberg Table Maintenance\n",
    "\n",
    "### Iceberg Compaction\n",
    "\n",
    "**What is Iceberg Compaction?**\n",
    "\n",
    "Iceberg compaction is the process of merging small data files within an Iceberg table into larger files to improve query performance and reduce metadata overhead. Iceberg writes immutable files, and over time, frequent inserts, updates, and deletes can lead to many small files that impact efficiency.\n",
    "\n",
    "**Why is it important?**\n",
    "\n",
    "  * Optimizes Read Performance: Reduces the number of files scanned during queries.\n",
    "  * Reduces Metadata Overhead: Merging files minimizes the number of metadata entries.\n",
    "  * Enhances Storage Efficiency: Helps avoid excessive small files that increase storage costs.\n",
    "  * Improves Query Planning: Fewer files mean better optimization by the query engine.\n",
    "\n",
    "**What's the Impact?**\n",
    "\n",
    "  * Reduced Query Latency: Faster scans with fewer files.\n",
    "  * Lower Metadata Management Overhead: Smaller metadata files and fewer manifest entries.\n",
    "  * Potential Higher Write Costs: Compacting too frequently can increase write costs if not managed properly.\n",
    "\n",
    "### Iceberg Expiring Snapshots\n",
    "\n",
    "**What are Expiring Snapshots?**\n",
    "\n",
    "Iceberg maintains a history of table snapshots, allowing for time travel and rollback. Expiring snapshots is the process of removing older snapshots that are no longer needed to free up storage and improve metadata performance.\n",
    "\n",
    "**Why is it important?**\n",
    "\n",
    "  * Manages Storage Growth: Prevents unnecessary accumulation of outdated snapshots.\n",
    "  * Improves Query Planning: Reduces metadata size, making query planning more efficient.\n",
    "  * Controls Data Retention: Helps enforce compliance policies by retaining only necessary snapshots.\n",
    "\n",
    "**What's the Impact?**\n",
    "\n",
    "  * Frees Up Storage Space: Reduces disk usage by removing old metadata and data files.\n",
    "  * Improves Query Performance: Smaller metadata means faster query planning.\n",
    "  * Irreversible Data Loss: Once expired, snapshots cannot be restored, so retention policies must be carefully set.\n",
    "  * Cleans Up Old Manifest Files: Expiring snapshots removes outdated manifest files, keeping metadata management efficient.\n",
    "\n",
    "### Code Example: Compaction and Expiring Snapshots\n",
    "\n",
    "In your existing Jupyter notebook add a new cell and run the code below. Examine each statement and it's output to understand how small files can be compacted and how historic snapshots can be expired"
   ]
  },
  {
   "cell_type": "code",
   "execution_count": 41,
   "metadata": {},
   "outputs": [
    {
     "name": "stderr",
     "output_type": "stream",
     "text": [
      "25/08/26 14:22:53 WARN  conf.HiveConf: [Thread-3]: HiveConf of name hive.metastore.runworker.in does not exist\n",
      "                                                                                \r"
     ]
    },
    {
     "name": "stdout",
     "output_type": "stream",
     "text": [
      "+-------------------------------------------------------------------------------------------------------------------------------------------------------------------------------------------------------------------------------------------------------------------------------------------------------------------------------------------------------------------------------------------------------------------------------------+\n",
      "|createtab_stmt                                                                                                                                                                                                                                                                                                                                                                                                                       |\n",
      "+-------------------------------------------------------------------------------------------------------------------------------------------------------------------------------------------------------------------------------------------------------------------------------------------------------------------------------------------------------------------------------------------------------------------------------------+\n",
      "|CREATE TABLE spark_catalog.default.user001_machinery_compaction (\\n  machine_id STRING,\\n  model STRING,\\n  manufacturer STRING,\\n  weight DOUBLE,\\n  status STRING)\\nUSING iceberg\\nLOCATION 's3a://nemea-hol-v2-buk-1b8d0c26/data/warehouse/tablespace/external/hive/user001_machinery_compaction'\\nTBLPROPERTIES (\\n  'current-snapshot-id' = '2358140538358141672',\\n  'format' = 'iceberg/parquet',\\n  'format-version' = '1')\\n|\n",
      "+-------------------------------------------------------------------------------------------------------------------------------------------------------------------------------------------------------------------------------------------------------------------------------------------------------------------------------------------------------------------------------------------------------------------------------------+\n",
      "\n"
     ]
    },
    {
     "name": "stderr",
     "output_type": "stream",
     "text": [
      "25/08/26 14:23:07 WARN  sql.CommandsHarvester$: [SparkExecutionPlanProcessor-thread]: Detected cycle - same entity observed to both input and output. Discarding output entities as Atlas doesn't support cycle.\n"
     ]
    },
    {
     "name": "stdout",
     "output_type": "stream",
     "text": [
      "+--------------------------+----------------------+---------------------+-----------------------+\n",
      "|rewritten_data_files_count|added_data_files_count|rewritten_bytes_count|failed_data_files_count|\n",
      "+--------------------------+----------------------+---------------------+-----------------------+\n",
      "|                         6|                     1|                 9363|                      0|\n",
      "+--------------------------+----------------------+---------------------+-----------------------+\n",
      "\n",
      "+-------------------------------------------------------------------------------------------------------------------------------------------------------------------------------------------------------------------------------------------------------------------------------------------------------------------------------------------------------------------------------------------------------------------------------------+\n",
      "|createtab_stmt                                                                                                                                                                                                                                                                                                                                                                                                                       |\n",
      "+-------------------------------------------------------------------------------------------------------------------------------------------------------------------------------------------------------------------------------------------------------------------------------------------------------------------------------------------------------------------------------------------------------------------------------------+\n",
      "|CREATE TABLE spark_catalog.default.user001_machinery_compaction (\\n  machine_id STRING,\\n  model STRING,\\n  manufacturer STRING,\\n  weight DOUBLE,\\n  status STRING)\\nUSING iceberg\\nLOCATION 's3a://nemea-hol-v2-buk-1b8d0c26/data/warehouse/tablespace/external/hive/user001_machinery_compaction'\\nTBLPROPERTIES (\\n  'current-snapshot-id' = '4992369791344793976',\\n  'format' = 'iceberg/parquet',\\n  'format-version' = '1')\\n|\n",
      "+-------------------------------------------------------------------------------------------------------------------------------------------------------------------------------------------------------------------------------------------------------------------------------------------------------------------------------------------------------------------------------------------------------------------------------------+\n",
      "\n",
      "+--------------------+-------------------+-------------------+---------+--------------------+--------------------+\n",
      "|        committed_at|        snapshot_id|          parent_id|operation|       manifest_list|             summary|\n",
      "+--------------------+-------------------+-------------------+---------+--------------------+--------------------+\n",
      "|2025-08-26 14:23:...| 507255349504843549|               NULL|   append|s3a://nemea-hol-v...|{spark.app.id -> ...|\n",
      "|2025-08-26 14:23:...|7680929437202564853| 507255349504843549|   append|s3a://nemea-hol-v...|{spark.app.id -> ...|\n",
      "|2025-08-26 14:23:...|2358140538358141672|7680929437202564853|   append|s3a://nemea-hol-v...|{spark.app.id -> ...|\n",
      "|2025-08-26 14:23:...|4992369791344793976|2358140538358141672|  replace|s3a://nemea-hol-v...|{added-data-files...|\n",
      "+--------------------+-------------------+-------------------+---------+--------------------+--------------------+\n",
      "\n"
     ]
    },
    {
     "name": "stderr",
     "output_type": "stream",
     "text": [
      "25/08/26 14:23:09 WARN  source.SparkScanBuilder: [Thread-3]: Failed to check if In(reference_snapshot_id, [2358140538358141672,507255349504843549,7680929437202564853]) can be pushed down: Cannot find field 'reference_snapshot_id' in struct: struct<>\n",
      "25/08/26 14:23:09 WARN  source.SparkScanBuilder: [Thread-3]: Failed to check if In(reference_snapshot_id, [2358140538358141672,507255349504843549,7680929437202564853]) can be pushed down: Cannot find field 'reference_snapshot_id' in struct: struct<>\n",
      "                                                                                \r"
     ]
    },
    {
     "name": "stdout",
     "output_type": "stream",
     "text": [
      "+------------------------+-----------------------------------+-----------------------------------+----------------------------+----------------------------+------------------------------+\n",
      "|deleted_data_files_count|deleted_position_delete_files_count|deleted_equality_delete_files_count|deleted_manifest_files_count|deleted_manifest_lists_count|deleted_statistics_files_count|\n",
      "+------------------------+-----------------------------------+-----------------------------------+----------------------------+----------------------------+------------------------------+\n",
      "|                       6|                                  0|                                  0|                           3|                           3|                             0|\n",
      "+------------------------+-----------------------------------+-----------------------------------+----------------------------+----------------------------+------------------------------+\n",
      "\n",
      "+--------------------+-------------------+-------------------+---------+--------------------+--------------------+\n",
      "|        committed_at|        snapshot_id|          parent_id|operation|       manifest_list|             summary|\n",
      "+--------------------+-------------------+-------------------+---------+--------------------+--------------------+\n",
      "|2025-08-26 14:23:...|4992369791344793976|2358140538358141672|  replace|s3a://nemea-hol-v...|{added-data-files...|\n",
      "+--------------------+-------------------+-------------------+---------+--------------------+--------------------+\n",
      "\n"
     ]
    },
    {
     "name": "stderr",
     "output_type": "stream",
     "text": [
      "[Stage 208:>                                                        (0 + 1) / 1]\r"
     ]
    },
    {
     "name": "stdout",
     "output_type": "stream",
     "text": [
      "+----------+------------------+---------------+-------+--------+\n",
      "|machine_id|model             |manufacturer   |weight |status  |\n",
      "+----------+------------------+---------------+-------+--------+\n",
      "|M005      |Concrete Mixer CM5|Schwing Stetter|9500.6 |Inactive|\n",
      "|M006      |Loader L6         |John Deere     |12800.4|Active  |\n",
      "|M003      |Crane C3          |Liebherr       |17500.2|Active  |\n",
      "|M004      |Dump Truck D4     |Volvo          |22000.8|Active  |\n",
      "|M001      |Excavator X1      |Caterpillar    |12500.5|Active  |\n",
      "|M002      |Bulldozer B2      |Komatsu        |14500.0|Inactive|\n",
      "+----------+------------------+---------------+-------+--------+\n",
      "\n",
      "Code block completed\n"
     ]
    },
    {
     "name": "stderr",
     "output_type": "stream",
     "text": [
      "                                                                                \r"
     ]
    }
   ],
   "source": [
    "# Drop the table if it exists\n",
    "spark.sql(\"DROP TABLE IF EXISTS default.{}_machinery_compaction\".format(username))\n",
    "\n",
    "# Create a new Iceberg table for construction machinery\n",
    "spark.sql(\"\"\"\n",
    "    CREATE TABLE default.{}_machinery_compaction (\n",
    "        machine_id STRING,\n",
    "        model STRING,\n",
    "        manufacturer STRING,\n",
    "        weight DOUBLE,\n",
    "        status STRING\n",
    "    )\n",
    "    USING iceberg\n",
    "\"\"\".format(username))\n",
    "\n",
    "# Insert multiple small files by writing data in multiple transactions\n",
    "spark.sql(\"\"\"\n",
    "    INSERT INTO default.{}_machinery_compaction VALUES\n",
    "    ('M001', 'Excavator X1', 'Caterpillar', 12500.5, 'Active'),\n",
    "    ('M002', 'Bulldozer B2', 'Komatsu', 14500.0, 'Inactive')\n",
    "\"\"\".format(username))\n",
    "\n",
    "spark.sql(\"\"\"\n",
    "    INSERT INTO default.{}_machinery_compaction VALUES\n",
    "    ('M003', 'Crane C3', 'Liebherr', 17500.2, 'Active'),\n",
    "    ('M004', 'Dump Truck D4', 'Volvo', 22000.8, 'Active')\n",
    "\"\"\".format(username))\n",
    "\n",
    "spark.sql(\"\"\"\n",
    "    INSERT INTO default.{}_machinery_compaction VALUES\n",
    "    ('M005', 'Concrete Mixer CM5', 'Schwing Stetter', 9500.6, 'Inactive'),\n",
    "    ('M006', 'Loader L6', 'John Deere', 12800.4, 'Active')\n",
    "\"\"\".format(username))\n",
    "\n",
    "# Validate the data location after insertions\n",
    "spark.sql(\"SHOW CREATE TABLE default.{}_machinery_compaction\".format(username)).show(truncate=False)\n",
    "\n",
    "# Rewrite data files to optimize file sizes (SIZE 1GB)\n",
    "spark.sql(\"\"\"\n",
    "    CALL system.rewrite_data_files(table => 'default.{}_machinery_compaction', options => map('target-file-size-bytes','1073741824'))\n",
    "\"\"\".format(username)).show()\n",
    "\n",
    "# Validate the data location again after rewrite\n",
    "spark.sql(\"SHOW CREATE TABLE default.{}_machinery_compaction\".format(username)).show(truncate=False)\n",
    "\n",
    "# Fetch the snapshot details for the table\n",
    "snapshots_df = spark.sql(\"\"\"\n",
    "    SELECT * FROM default.{}_machinery_compaction.snapshots\n",
    "\"\"\".format(username))\n",
    "\n",
    "# Show the snapshots DataFrame\n",
    "snapshots_df.show()\n",
    "\n",
    "# Collect the snapshot IDs for the first three snapshots\n",
    "rollback_snapshot_id_0 = snapshots_df.collect()[0].snapshot_id  \n",
    "rollback_snapshot_id_1 = snapshots_df.collect()[1].snapshot_id  \n",
    "rollback_snapshot_id_2 = snapshots_df.collect()[2].snapshot_id  \n",
    "\n",
    "# Expire the snapshots dynamically using the collected snapshot IDs\n",
    "spark.sql(\"\"\"\n",
    "    CALL system.expire_snapshots(table => 'default.{0}_machinery_compaction', snapshot_ids => array({1}, {2}, {3}))\n",
    "\"\"\".format(username,rollback_snapshot_id_0,rollback_snapshot_id_1,rollback_snapshot_id_2)).show()\n",
    "\n",
    "# Fetch the snapshot details for the table after expiring \n",
    "spark.sql(\"\"\"\n",
    "    SELECT * FROM default.{}_machinery_compaction.snapshots\n",
    "\"\"\".format(username)).show()\n",
    "\n",
    "# Verify the current state of the table\n",
    "spark.sql(\"SELECT * FROM default.{}_machinery_compaction\".format(username)).show(truncate=False)\n",
    "\n",
    "print(\"Code block completed\")"
   ]
  },
  {
   "cell_type": "markdown",
   "metadata": {},
   "source": [
    "## &#x1F600; Well done - You've completed this section of the labs!"
   ]
  },
  {
   "cell_type": "code",
   "execution_count": null,
   "metadata": {},
   "outputs": [],
   "source": []
  }
 ],
 "metadata": {
  "kernelspec": {
   "display_name": "Python 3 (ipykernel)",
   "language": "python",
   "name": "python3"
  },
  "language_info": {
   "codemirror_mode": {
    "name": "ipython",
    "version": 3
   },
   "file_extension": ".py",
   "mimetype": "text/x-python",
   "name": "python",
   "nbconvert_exporter": "python",
   "pygments_lexer": "ipython3",
   "version": "3.11.7"
  }
 },
 "nbformat": 4,
 "nbformat_minor": 4
}
